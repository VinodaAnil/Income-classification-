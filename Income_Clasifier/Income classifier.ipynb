{
 "cells": [
  {
   "cell_type": "markdown",
   "metadata": {},
   "source": [
    "# Classifying Personal Income"
   ]
  },
  {
   "cell_type": "code",
   "execution_count": 68,
   "metadata": {},
   "outputs": [],
   "source": [
    "# Supressing the warning messages\n",
    "import warnings\n",
    "warnings.filterwarnings('ignore')"
   ]
  },
  {
   "cell_type": "code",
   "execution_count": 69,
   "metadata": {},
   "outputs": [],
   "source": [
    "# importing the necessary libraries\n",
    "import numpy as np\n",
    "import matplotlib.pyplot as plt\n",
    "import pandas as pd\n",
    "import seaborn as sns\n",
    "import pickle\n"
   ]
  },
  {
   "cell_type": "code",
   "execution_count": 70,
   "metadata": {},
   "outputs": [
    {
     "name": "stdout",
     "output_type": "stream",
     "text": [
      "Dimension of the data set (31978, 13)\n",
      "Shape After deleting duplicate values: (28516, 13)\n"
     ]
    },
    {
     "data": {
      "text/html": [
       "<div>\n",
       "<style scoped>\n",
       "    .dataframe tbody tr th:only-of-type {\n",
       "        vertical-align: middle;\n",
       "    }\n",
       "\n",
       "    .dataframe tbody tr th {\n",
       "        vertical-align: top;\n",
       "    }\n",
       "\n",
       "    .dataframe thead th {\n",
       "        text-align: right;\n",
       "    }\n",
       "</style>\n",
       "<table border=\"1\" class=\"dataframe\">\n",
       "  <thead>\n",
       "    <tr style=\"text-align: right;\">\n",
       "      <th></th>\n",
       "      <th>age</th>\n",
       "      <th>JobType</th>\n",
       "      <th>EdType</th>\n",
       "      <th>maritalstatus</th>\n",
       "      <th>occupation</th>\n",
       "      <th>relationship</th>\n",
       "      <th>race</th>\n",
       "      <th>gender</th>\n",
       "      <th>capitalgain</th>\n",
       "      <th>capitalloss</th>\n",
       "      <th>hoursperweek</th>\n",
       "      <th>nativecountry</th>\n",
       "      <th>SalStat</th>\n",
       "    </tr>\n",
       "  </thead>\n",
       "  <tbody>\n",
       "    <tr>\n",
       "      <th>0</th>\n",
       "      <td>45</td>\n",
       "      <td>Private</td>\n",
       "      <td>HS-grad</td>\n",
       "      <td>Divorced</td>\n",
       "      <td>Adm-clerical</td>\n",
       "      <td>Not-in-family</td>\n",
       "      <td>White</td>\n",
       "      <td>Female</td>\n",
       "      <td>0</td>\n",
       "      <td>0</td>\n",
       "      <td>28</td>\n",
       "      <td>United-States</td>\n",
       "      <td>less than or equal to 50,000</td>\n",
       "    </tr>\n",
       "    <tr>\n",
       "      <th>1</th>\n",
       "      <td>24</td>\n",
       "      <td>Federal-gov</td>\n",
       "      <td>HS-grad</td>\n",
       "      <td>Never-married</td>\n",
       "      <td>Armed-Forces</td>\n",
       "      <td>Own-child</td>\n",
       "      <td>White</td>\n",
       "      <td>Male</td>\n",
       "      <td>0</td>\n",
       "      <td>0</td>\n",
       "      <td>40</td>\n",
       "      <td>United-States</td>\n",
       "      <td>less than or equal to 50,000</td>\n",
       "    </tr>\n",
       "    <tr>\n",
       "      <th>2</th>\n",
       "      <td>44</td>\n",
       "      <td>Private</td>\n",
       "      <td>Some-college</td>\n",
       "      <td>Married-civ-spouse</td>\n",
       "      <td>Prof-specialty</td>\n",
       "      <td>Husband</td>\n",
       "      <td>White</td>\n",
       "      <td>Male</td>\n",
       "      <td>0</td>\n",
       "      <td>0</td>\n",
       "      <td>40</td>\n",
       "      <td>United-States</td>\n",
       "      <td>greater than 50,000</td>\n",
       "    </tr>\n",
       "    <tr>\n",
       "      <th>3</th>\n",
       "      <td>27</td>\n",
       "      <td>Private</td>\n",
       "      <td>9th</td>\n",
       "      <td>Never-married</td>\n",
       "      <td>Craft-repair</td>\n",
       "      <td>Other-relative</td>\n",
       "      <td>White</td>\n",
       "      <td>Male</td>\n",
       "      <td>0</td>\n",
       "      <td>0</td>\n",
       "      <td>40</td>\n",
       "      <td>Mexico</td>\n",
       "      <td>less than or equal to 50,000</td>\n",
       "    </tr>\n",
       "    <tr>\n",
       "      <th>4</th>\n",
       "      <td>20</td>\n",
       "      <td>Private</td>\n",
       "      <td>Some-college</td>\n",
       "      <td>Never-married</td>\n",
       "      <td>Sales</td>\n",
       "      <td>Not-in-family</td>\n",
       "      <td>White</td>\n",
       "      <td>Male</td>\n",
       "      <td>0</td>\n",
       "      <td>0</td>\n",
       "      <td>35</td>\n",
       "      <td>United-States</td>\n",
       "      <td>less than or equal to 50,000</td>\n",
       "    </tr>\n",
       "  </tbody>\n",
       "</table>\n",
       "</div>"
      ],
      "text/plain": [
       "   age       JobType         EdType        maritalstatus       occupation  \\\n",
       "0   45       Private        HS-grad             Divorced     Adm-clerical   \n",
       "1   24   Federal-gov        HS-grad        Never-married     Armed-Forces   \n",
       "2   44       Private   Some-college   Married-civ-spouse   Prof-specialty   \n",
       "3   27       Private            9th        Never-married     Craft-repair   \n",
       "4   20       Private   Some-college        Never-married            Sales   \n",
       "\n",
       "      relationship    race   gender  capitalgain  capitalloss  hoursperweek  \\\n",
       "0    Not-in-family   White   Female            0            0            28   \n",
       "1        Own-child   White     Male            0            0            40   \n",
       "2          Husband   White     Male            0            0            40   \n",
       "3   Other-relative   White     Male            0            0            40   \n",
       "4    Not-in-family   White     Male            0            0            35   \n",
       "\n",
       "    nativecountry                        SalStat  \n",
       "0   United-States   less than or equal to 50,000  \n",
       "1   United-States   less than or equal to 50,000  \n",
       "2   United-States            greater than 50,000  \n",
       "3          Mexico   less than or equal to 50,000  \n",
       "4   United-States   less than or equal to 50,000  "
      ]
     },
     "execution_count": 70,
     "metadata": {},
     "output_type": "execute_result"
    }
   ],
   "source": [
    "# Reading the dataset\n",
    "Df=pd.read_csv(\"D:\\python iitb cous\\data files\\week4 datasets\\income.csv\")\n",
    "\n",
    "# Dimension of the dataset\n",
    "print(\"Dimension of the data set\", Df.shape)\n",
    "\n",
    "# Removing duplicate rows if any\n",
    "Df=Df.drop_duplicates()\n",
    "print('Shape After deleting duplicate values:', Df.shape)\n",
    "\n",
    "# Printing sample data\n",
    "# Start observing the Quantitative/Categorical/Qualitative variables\n",
    "Df.head()"
   ]
  },
  {
   "cell_type": "markdown",
   "metadata": {},
   "source": [
    "## Basic Data Exploration"
   ]
  },
  {
   "cell_type": "code",
   "execution_count": 71,
   "metadata": {},
   "outputs": [
    {
     "data": {
      "text/html": [
       "<div>\n",
       "<style scoped>\n",
       "    .dataframe tbody tr th:only-of-type {\n",
       "        vertical-align: middle;\n",
       "    }\n",
       "\n",
       "    .dataframe tbody tr th {\n",
       "        vertical-align: top;\n",
       "    }\n",
       "\n",
       "    .dataframe thead th {\n",
       "        text-align: right;\n",
       "    }\n",
       "</style>\n",
       "<table border=\"1\" class=\"dataframe\">\n",
       "  <thead>\n",
       "    <tr style=\"text-align: right;\">\n",
       "      <th></th>\n",
       "      <th>age</th>\n",
       "      <th>JobType</th>\n",
       "      <th>EdType</th>\n",
       "      <th>maritalstatus</th>\n",
       "      <th>occupation</th>\n",
       "      <th>relationship</th>\n",
       "      <th>race</th>\n",
       "      <th>gender</th>\n",
       "      <th>capitalgain</th>\n",
       "      <th>capitalloss</th>\n",
       "      <th>hoursperweek</th>\n",
       "      <th>nativecountry</th>\n",
       "      <th>SalStat</th>\n",
       "    </tr>\n",
       "  </thead>\n",
       "  <tbody>\n",
       "    <tr>\n",
       "      <th>0</th>\n",
       "      <td>45</td>\n",
       "      <td>Private</td>\n",
       "      <td>HS-grad</td>\n",
       "      <td>Divorced</td>\n",
       "      <td>Adm-clerical</td>\n",
       "      <td>Not-in-family</td>\n",
       "      <td>White</td>\n",
       "      <td>Female</td>\n",
       "      <td>0</td>\n",
       "      <td>0</td>\n",
       "      <td>28</td>\n",
       "      <td>United-States</td>\n",
       "      <td>less than or equal to 50,000</td>\n",
       "    </tr>\n",
       "    <tr>\n",
       "      <th>1</th>\n",
       "      <td>24</td>\n",
       "      <td>Federal-gov</td>\n",
       "      <td>HS-grad</td>\n",
       "      <td>Never-married</td>\n",
       "      <td>Armed-Forces</td>\n",
       "      <td>Own-child</td>\n",
       "      <td>White</td>\n",
       "      <td>Male</td>\n",
       "      <td>0</td>\n",
       "      <td>0</td>\n",
       "      <td>40</td>\n",
       "      <td>United-States</td>\n",
       "      <td>less than or equal to 50,000</td>\n",
       "    </tr>\n",
       "    <tr>\n",
       "      <th>2</th>\n",
       "      <td>44</td>\n",
       "      <td>Private</td>\n",
       "      <td>Some-college</td>\n",
       "      <td>Married-civ-spouse</td>\n",
       "      <td>Prof-specialty</td>\n",
       "      <td>Husband</td>\n",
       "      <td>White</td>\n",
       "      <td>Male</td>\n",
       "      <td>0</td>\n",
       "      <td>0</td>\n",
       "      <td>40</td>\n",
       "      <td>United-States</td>\n",
       "      <td>greater than 50,000</td>\n",
       "    </tr>\n",
       "    <tr>\n",
       "      <th>3</th>\n",
       "      <td>27</td>\n",
       "      <td>Private</td>\n",
       "      <td>9th</td>\n",
       "      <td>Never-married</td>\n",
       "      <td>Craft-repair</td>\n",
       "      <td>Other-relative</td>\n",
       "      <td>White</td>\n",
       "      <td>Male</td>\n",
       "      <td>0</td>\n",
       "      <td>0</td>\n",
       "      <td>40</td>\n",
       "      <td>Mexico</td>\n",
       "      <td>less than or equal to 50,000</td>\n",
       "    </tr>\n",
       "    <tr>\n",
       "      <th>4</th>\n",
       "      <td>20</td>\n",
       "      <td>Private</td>\n",
       "      <td>Some-college</td>\n",
       "      <td>Never-married</td>\n",
       "      <td>Sales</td>\n",
       "      <td>Not-in-family</td>\n",
       "      <td>White</td>\n",
       "      <td>Male</td>\n",
       "      <td>0</td>\n",
       "      <td>0</td>\n",
       "      <td>35</td>\n",
       "      <td>United-States</td>\n",
       "      <td>less than or equal to 50,000</td>\n",
       "    </tr>\n",
       "  </tbody>\n",
       "</table>\n",
       "</div>"
      ],
      "text/plain": [
       "   age       JobType         EdType        maritalstatus       occupation  \\\n",
       "0   45       Private        HS-grad             Divorced     Adm-clerical   \n",
       "1   24   Federal-gov        HS-grad        Never-married     Armed-Forces   \n",
       "2   44       Private   Some-college   Married-civ-spouse   Prof-specialty   \n",
       "3   27       Private            9th        Never-married     Craft-repair   \n",
       "4   20       Private   Some-college        Never-married            Sales   \n",
       "\n",
       "      relationship    race   gender  capitalgain  capitalloss  hoursperweek  \\\n",
       "0    Not-in-family   White   Female            0            0            28   \n",
       "1        Own-child   White     Male            0            0            40   \n",
       "2          Husband   White     Male            0            0            40   \n",
       "3   Other-relative   White     Male            0            0            40   \n",
       "4    Not-in-family   White     Male            0            0            35   \n",
       "\n",
       "    nativecountry                        SalStat  \n",
       "0   United-States   less than or equal to 50,000  \n",
       "1   United-States   less than or equal to 50,000  \n",
       "2   United-States            greater than 50,000  \n",
       "3          Mexico   less than or equal to 50,000  \n",
       "4   United-States   less than or equal to 50,000  "
      ]
     },
     "execution_count": 71,
     "metadata": {},
     "output_type": "execute_result"
    }
   ],
   "source": [
    "# Looking at sample rows in the data\n",
    "Df.head()"
   ]
  },
  {
   "cell_type": "code",
   "execution_count": 72,
   "metadata": {},
   "outputs": [
    {
     "name": "stdout",
     "output_type": "stream",
     "text": [
      "<class 'pandas.core.frame.DataFrame'>\n",
      "Int64Index: 28516 entries, 0 to 31976\n",
      "Data columns (total 13 columns):\n",
      " #   Column         Non-Null Count  Dtype \n",
      "---  ------         --------------  ----- \n",
      " 0   age            28516 non-null  int64 \n",
      " 1   JobType        28516 non-null  object\n",
      " 2   EdType         28516 non-null  object\n",
      " 3   maritalstatus  28516 non-null  object\n",
      " 4   occupation     28516 non-null  object\n",
      " 5   relationship   28516 non-null  object\n",
      " 6   race           28516 non-null  object\n",
      " 7   gender         28516 non-null  object\n",
      " 8   capitalgain    28516 non-null  int64 \n",
      " 9   capitalloss    28516 non-null  int64 \n",
      " 10  hoursperweek   28516 non-null  int64 \n",
      " 11  nativecountry  28516 non-null  object\n",
      " 12  SalStat        28516 non-null  object\n",
      "dtypes: int64(4), object(9)\n",
      "memory usage: 3.0+ MB\n"
     ]
    }
   ],
   "source": [
    "# Observing the summarized information of data\n",
    "# Data types, Missing values based on number of non-null values Vs total rows etc.\n",
    "Df.info()"
   ]
  },
  {
   "cell_type": "code",
   "execution_count": 73,
   "metadata": {},
   "outputs": [
    {
     "data": {
      "text/plain": [
       "age               int64\n",
       "JobType          object\n",
       "EdType           object\n",
       "maritalstatus    object\n",
       "occupation       object\n",
       "relationship     object\n",
       "race             object\n",
       "gender           object\n",
       "capitalgain       int64\n",
       "capitalloss       int64\n",
       "hoursperweek      int64\n",
       "nativecountry    object\n",
       "SalStat          object\n",
       "dtype: object"
      ]
     },
     "execution_count": 73,
     "metadata": {},
     "output_type": "execute_result"
    }
   ],
   "source": [
    "# Finging unique values for each column\n",
    "# TO understand which column is categorical and which one is Continuous\n",
    "Df.dtypes"
   ]
  },
  {
   "cell_type": "code",
   "execution_count": 74,
   "metadata": {},
   "outputs": [
    {
     "data": {
      "text/html": [
       "<div>\n",
       "<style scoped>\n",
       "    .dataframe tbody tr th:only-of-type {\n",
       "        vertical-align: middle;\n",
       "    }\n",
       "\n",
       "    .dataframe tbody tr th {\n",
       "        vertical-align: top;\n",
       "    }\n",
       "\n",
       "    .dataframe thead th {\n",
       "        text-align: right;\n",
       "    }\n",
       "</style>\n",
       "<table border=\"1\" class=\"dataframe\">\n",
       "  <thead>\n",
       "    <tr style=\"text-align: right;\">\n",
       "      <th></th>\n",
       "      <th>age</th>\n",
       "      <th>capitalgain</th>\n",
       "      <th>capitalloss</th>\n",
       "      <th>hoursperweek</th>\n",
       "    </tr>\n",
       "  </thead>\n",
       "  <tbody>\n",
       "    <tr>\n",
       "      <th>count</th>\n",
       "      <td>28516.000000</td>\n",
       "      <td>28516.000000</td>\n",
       "      <td>28516.000000</td>\n",
       "      <td>28516.000000</td>\n",
       "    </tr>\n",
       "    <tr>\n",
       "      <th>mean</th>\n",
       "      <td>39.261046</td>\n",
       "      <td>1185.231204</td>\n",
       "      <td>96.733764</td>\n",
       "      <td>40.619512</td>\n",
       "    </tr>\n",
       "    <tr>\n",
       "      <th>std</th>\n",
       "      <td>13.711978</td>\n",
       "      <td>7693.642033</td>\n",
       "      <td>422.964800</td>\n",
       "      <td>12.740703</td>\n",
       "    </tr>\n",
       "    <tr>\n",
       "      <th>min</th>\n",
       "      <td>17.000000</td>\n",
       "      <td>0.000000</td>\n",
       "      <td>0.000000</td>\n",
       "      <td>1.000000</td>\n",
       "    </tr>\n",
       "    <tr>\n",
       "      <th>25%</th>\n",
       "      <td>28.000000</td>\n",
       "      <td>0.000000</td>\n",
       "      <td>0.000000</td>\n",
       "      <td>39.000000</td>\n",
       "    </tr>\n",
       "    <tr>\n",
       "      <th>50%</th>\n",
       "      <td>38.000000</td>\n",
       "      <td>0.000000</td>\n",
       "      <td>0.000000</td>\n",
       "      <td>40.000000</td>\n",
       "    </tr>\n",
       "    <tr>\n",
       "      <th>75%</th>\n",
       "      <td>48.000000</td>\n",
       "      <td>0.000000</td>\n",
       "      <td>0.000000</td>\n",
       "      <td>45.000000</td>\n",
       "    </tr>\n",
       "    <tr>\n",
       "      <th>max</th>\n",
       "      <td>90.000000</td>\n",
       "      <td>99999.000000</td>\n",
       "      <td>4356.000000</td>\n",
       "      <td>99.000000</td>\n",
       "    </tr>\n",
       "  </tbody>\n",
       "</table>\n",
       "</div>"
      ],
      "text/plain": [
       "                age   capitalgain   capitalloss  hoursperweek\n",
       "count  28516.000000  28516.000000  28516.000000  28516.000000\n",
       "mean      39.261046   1185.231204     96.733764     40.619512\n",
       "std       13.711978   7693.642033    422.964800     12.740703\n",
       "min       17.000000      0.000000      0.000000      1.000000\n",
       "25%       28.000000      0.000000      0.000000     39.000000\n",
       "50%       38.000000      0.000000      0.000000     40.000000\n",
       "75%       48.000000      0.000000      0.000000     45.000000\n",
       "max       90.000000  99999.000000   4356.000000     99.000000"
      ]
     },
     "execution_count": 74,
     "metadata": {},
     "output_type": "execute_result"
    }
   ],
   "source": [
    "# Looking at the descriptive statistics of the Numerical data\n",
    "Df.describe()"
   ]
  },
  {
   "cell_type": "code",
   "execution_count": 75,
   "metadata": {},
   "outputs": [
    {
     "data": {
      "text/html": [
       "<div>\n",
       "<style scoped>\n",
       "    .dataframe tbody tr th:only-of-type {\n",
       "        vertical-align: middle;\n",
       "    }\n",
       "\n",
       "    .dataframe tbody tr th {\n",
       "        vertical-align: top;\n",
       "    }\n",
       "\n",
       "    .dataframe thead th {\n",
       "        text-align: right;\n",
       "    }\n",
       "</style>\n",
       "<table border=\"1\" class=\"dataframe\">\n",
       "  <thead>\n",
       "    <tr style=\"text-align: right;\">\n",
       "      <th></th>\n",
       "      <th>JobType</th>\n",
       "      <th>EdType</th>\n",
       "      <th>maritalstatus</th>\n",
       "      <th>occupation</th>\n",
       "      <th>relationship</th>\n",
       "      <th>race</th>\n",
       "      <th>gender</th>\n",
       "      <th>nativecountry</th>\n",
       "      <th>SalStat</th>\n",
       "    </tr>\n",
       "  </thead>\n",
       "  <tbody>\n",
       "    <tr>\n",
       "      <th>count</th>\n",
       "      <td>28516</td>\n",
       "      <td>28516</td>\n",
       "      <td>28516</td>\n",
       "      <td>28516</td>\n",
       "      <td>28516</td>\n",
       "      <td>28516</td>\n",
       "      <td>28516</td>\n",
       "      <td>28516</td>\n",
       "      <td>28516</td>\n",
       "    </tr>\n",
       "    <tr>\n",
       "      <th>unique</th>\n",
       "      <td>9</td>\n",
       "      <td>16</td>\n",
       "      <td>7</td>\n",
       "      <td>15</td>\n",
       "      <td>6</td>\n",
       "      <td>5</td>\n",
       "      <td>2</td>\n",
       "      <td>41</td>\n",
       "      <td>2</td>\n",
       "    </tr>\n",
       "    <tr>\n",
       "      <th>top</th>\n",
       "      <td>Private</td>\n",
       "      <td>HS-grad</td>\n",
       "      <td>Married-civ-spouse</td>\n",
       "      <td>Prof-specialty</td>\n",
       "      <td>Husband</td>\n",
       "      <td>White</td>\n",
       "      <td>Male</td>\n",
       "      <td>United-States</td>\n",
       "      <td>less than or equal to 50,000</td>\n",
       "    </tr>\n",
       "    <tr>\n",
       "      <th>freq</th>\n",
       "      <td>19214</td>\n",
       "      <td>8754</td>\n",
       "      <td>12966</td>\n",
       "      <td>3783</td>\n",
       "      <td>11261</td>\n",
       "      <td>24054</td>\n",
       "      <td>18829</td>\n",
       "      <td>25721</td>\n",
       "      <td>21451</td>\n",
       "    </tr>\n",
       "  </tbody>\n",
       "</table>\n",
       "</div>"
      ],
      "text/plain": [
       "         JobType    EdType        maritalstatus       occupation relationship  \\\n",
       "count      28516     28516                28516            28516        28516   \n",
       "unique         9        16                    7               15            6   \n",
       "top      Private   HS-grad   Married-civ-spouse   Prof-specialty      Husband   \n",
       "freq       19214      8754                12966             3783        11261   \n",
       "\n",
       "          race gender   nativecountry                        SalStat  \n",
       "count    28516  28516           28516                          28516  \n",
       "unique       5      2              41                              2  \n",
       "top      White   Male   United-States   less than or equal to 50,000  \n",
       "freq     24054  18829           25721                          21451  "
      ]
     },
     "execution_count": 75,
     "metadata": {},
     "output_type": "execute_result"
    }
   ],
   "source": [
    "# Looking at the descriptive statistics of the Catgorical data\n",
    "Df.describe(include=\"O\")"
   ]
  },
  {
   "cell_type": "code",
   "execution_count": 76,
   "metadata": {},
   "outputs": [
    {
     "data": {
      "text/plain": [
       "Index(['age', 'JobType', 'EdType', 'maritalstatus', 'occupation',\n",
       "       'relationship', 'race', 'gender', 'capitalgain', 'capitalloss',\n",
       "       'hoursperweek', 'nativecountry', 'SalStat'],\n",
       "      dtype='object')"
      ]
     },
     "execution_count": 76,
     "metadata": {},
     "output_type": "execute_result"
    }
   ],
   "source": [
    "Df.columns"
   ]
  },
  {
   "cell_type": "markdown",
   "metadata": {},
   "source": [
    "# Visual Exploratory Data Analysis"
   ]
  },
  {
   "cell_type": "code",
   "execution_count": 77,
   "metadata": {},
   "outputs": [],
   "source": [
    "#Categorical variables: Bar plot\n",
    "#Continuous variables: Histogram"
   ]
  },
  {
   "cell_type": "markdown",
   "metadata": {},
   "source": [
    "# Visualize distribution of all the Categorical Predictor variables in the data using bar plots"
   ]
  },
  {
   "cell_type": "code",
   "execution_count": 78,
   "metadata": {},
   "outputs": [
    {
     "name": "stdout",
     "output_type": "stream",
     "text": [
      "Categorical feature: JobType\n"
     ]
    },
    {
     "data": {
      "image/png": "[encoded data removed]",
      "text/plain": [
       "<Figure size 720x360 with 1 Axes>"
      ]
     },
     "metadata": {
      "needs_background": "light"
     },
     "output_type": "display_data"
    },
    {
     "name": "stdout",
     "output_type": "stream",
     "text": [
      "Categorical feature: EdType\n"
     ]
    },
    {
     "data": {
      "image/png": "[encoded data removed]",
      "text/plain": [
       "<Figure size 720x360 with 1 Axes>"
      ]
     },
     "metadata": {
      "needs_background": "light"
     },
     "output_type": "display_data"
    },
    {
     "name": "stdout",
     "output_type": "stream",
     "text": [
      "Categorical feature: maritalstatus\n"
     ]
    },
    {
     "data": {
      "image/png": "[encoded data removed]",
      "text/plain": [
       "<Figure size 720x360 with 1 Axes>"
      ]
     },
     "metadata": {
      "needs_background": "light"
     },
     "output_type": "display_data"
    },
    {
     "name": "stdout",
     "output_type": "stream",
     "text": [
      "Categorical feature: occupation\n"
     ]
    },
    {
     "data": {
      "image/png": "[encoded data removed]",
      "text/plain": [
       "<Figure size 720x360 with 1 Axes>"
      ]
     },
     "metadata": {
      "needs_background": "light"
     },
     "output_type": "display_data"
    },
    {
     "name": "stdout",
     "output_type": "stream",
     "text": [
      "Categorical feature: relationship\n"
     ]
    },
    {
     "data": {
      "image/png": "[encoded data removed]",
      "text/plain": [
       "<Figure size 720x360 with 1 Axes>"
      ]
     },
     "metadata": {
      "needs_background": "light"
     },
     "output_type": "display_data"
    },
    {
     "name": "stdout",
     "output_type": "stream",
     "text": [
      "Categorical feature: race\n"
     ]
    },
    {
     "data": {
      "image/png": "[encoded data removed]",
      "text/plain": [
       "<Figure size 720x360 with 1 Axes>"
      ]
     },
     "metadata": {
      "needs_background": "light"
     },
     "output_type": "display_data"
    },
    {
     "name": "stdout",
     "output_type": "stream",
     "text": [
      "Categorical feature: gender\n"
     ]
    },
    {
     "data": {
      "image/png": "[encoded data removed]",
      "text/plain": [
       "<Figure size 720x360 with 1 Axes>"
      ]
     },
     "metadata": {
      "needs_background": "light"
     },
     "output_type": "display_data"
    },
    {
     "name": "stdout",
     "output_type": "stream",
     "text": [
      "Categorical feature: nativecountry\n"
     ]
    },
    {
     "data": {
      "image/png": "[encoded data removed]",
      "text/plain": [
       "<Figure size 720x360 with 1 Axes>"
      ]
     },
     "metadata": {
      "needs_background": "light"
     },
     "output_type": "display_data"
    }
   ],
   "source": [
    "columns=['JobType','EdType','maritalstatus','occupation','relationship','race','gender','nativecountry']\n",
    "\n",
    "for i in columns:\n",
    "    plt.figure(figsize=(10,5))\n",
    "    print(\"Categorical feature:\" ,i)\n",
    "    sns.countplot(x=Df[i], hue=Df['SalStat'])\n",
    "    plt.xticks(rotation=90)\n",
    "    plt.show()"
   ]
  },
  {
   "cell_type": "markdown",
   "metadata": {},
   "source": [
    "# Visualize distribution of all the Continuous Predictor variables in the data using histograms¶"
   ]
  },
  {
   "cell_type": "code",
   "execution_count": 79,
   "metadata": {},
   "outputs": [
    {
     "name": "stdout",
     "output_type": "stream",
     "text": [
      "Numerical feature: age\n"
     ]
    },
    {
     "data": {
      "image/png": "[encoded data removed]",
      "text/plain": [
       "<Figure size 720x360 with 1 Axes>"
      ]
     },
     "metadata": {
      "needs_background": "light"
     },
     "output_type": "display_data"
    },
    {
     "name": "stdout",
     "output_type": "stream",
     "text": [
      "Numerical feature: capitalgain\n"
     ]
    },
    {
     "data": {
      "image/png": "[encoded data removed]",
      "text/plain": [
       "<Figure size 720x360 with 1 Axes>"
      ]
     },
     "metadata": {
      "needs_background": "light"
     },
     "output_type": "display_data"
    },
    {
     "name": "stdout",
     "output_type": "stream",
     "text": [
      "Numerical feature: capitalloss\n"
     ]
    },
    {
     "data": {
      "image/png": "[encoded data removed]",
      "text/plain": [
       "<Figure size 720x360 with 1 Axes>"
      ]
     },
     "metadata": {
      "needs_background": "light"
     },
     "output_type": "display_data"
    },
    {
     "name": "stdout",
     "output_type": "stream",
     "text": [
      "Numerical feature: hoursperweek\n"
     ]
    },
    {
     "data": {
      "image/png": "[encoded data removed]",
      "text/plain": [
       "<Figure size 720x360 with 1 Axes>"
      ]
     },
     "metadata": {
      "needs_background": "light"
     },
     "output_type": "display_data"
    }
   ],
   "source": [
    "#Plotting histograms of multiple columns together\n",
    "col=['age','capitalgain', 'capitalloss','hoursperweek']\n",
    "for i in col:\n",
    "    plt.figure(figsize=(10,5))\n",
    "    print(\"Numerical feature:\" ,i)\n",
    "    sns.histplot(x=Df[i])\n",
    "    plt.xticks(rotation=90)\n",
    "    plt.show()"
   ]
  },
  {
   "cell_type": "markdown",
   "metadata": {},
   "source": [
    "# observations\n",
    "age : Selected.\n",
    "capital_gain: Selected. Outliers seen beyond 40000, need to treat them.\n",
    "capital.loss: Selected. Outliers seen beyond 1000, need to treat them.\n",
    "hours_per_week: Selected. Distribution looks good."
   ]
  },
  {
   "cell_type": "markdown",
   "metadata": {},
   "source": [
    "# Dealing with missing values"
   ]
  },
  {
   "cell_type": "code",
   "execution_count": 80,
   "metadata": {},
   "outputs": [
    {
     "data": {
      "text/plain": [
       "age              0\n",
       "JobType          0\n",
       "EdType           0\n",
       "maritalstatus    0\n",
       "occupation       0\n",
       "relationship     0\n",
       "race             0\n",
       "gender           0\n",
       "capitalgain      0\n",
       "capitalloss      0\n",
       "hoursperweek     0\n",
       "nativecountry    0\n",
       "SalStat          0\n",
       "dtype: int64"
      ]
     },
     "execution_count": 80,
     "metadata": {},
     "output_type": "execute_result"
    }
   ],
   "source": [
    "# checking number of missing values and samples\n",
    "Df.isnull().sum()"
   ]
  },
  {
   "cell_type": "code",
   "execution_count": 81,
   "metadata": {},
   "outputs": [
    {
     "name": "stdout",
     "output_type": "stream",
     "text": [
      "Unique values of feature :  age\n",
      "[45 24 44 27 20 51 17 19 60 40 30 38 23 32 54 50 37 52 49 22 35 67 46 33\n",
      " 43 28 41 25 63 59 34 26 72 62 58 47 39 53 57 21 42 74 36 29 31 69 18 65\n",
      " 55 48 71 70 66 56 61 68 64 73 81 78 76 90 88 75 77 80 82 79 83 84 85 86\n",
      " 87]\n",
      "************************\n",
      "Unique values of feature :  JobType\n",
      "[' Private' ' Federal-gov' ' ?' ' Self-emp-inc' ' Self-emp-not-inc'\n",
      " ' Local-gov' ' State-gov' ' Without-pay' ' Never-worked']\n",
      "************************\n",
      "Unique values of feature :  EdType\n",
      "[' HS-grad' ' Some-college' ' 9th' ' 11th' ' Assoc-voc' ' Assoc-acdm'\n",
      " ' Bachelors' ' 1st-4th' ' Masters' ' 10th' ' 12th' ' 5th-6th'\n",
      " ' Prof-school' ' Doctorate' ' 7th-8th' ' Preschool']\n",
      "************************\n",
      "Unique values of feature :  maritalstatus\n",
      "[' Divorced' ' Never-married' ' Married-civ-spouse' ' Widowed'\n",
      " ' Married-spouse-absent' ' Separated' ' Married-AF-spouse']\n",
      "************************\n",
      "Unique values of feature :  occupation\n",
      "[' Adm-clerical' ' Armed-Forces' ' Prof-specialty' ' Craft-repair'\n",
      " ' Sales' ' Exec-managerial' ' Machine-op-inspct' ' ?' ' Transport-moving'\n",
      " ' Farming-fishing' ' Tech-support' ' Other-service' ' Handlers-cleaners'\n",
      " ' Protective-serv' ' Priv-house-serv']\n",
      "************************\n",
      "Unique values of feature :  relationship\n",
      "[' Not-in-family' ' Own-child' ' Husband' ' Other-relative' ' Unmarried'\n",
      " ' Wife']\n",
      "************************\n",
      "Unique values of feature :  race\n",
      "[' White' ' Black' ' Amer-Indian-Eskimo' ' Asian-Pac-Islander' ' Other']\n",
      "************************\n",
      "Unique values of feature :  gender\n",
      "[' Female' ' Male']\n",
      "************************\n",
      "Unique values of feature :  capitalgain\n",
      "[    0   594 15024  7688 20051  5013  2174  6849  1055  5178  4101  1111\n",
      "  8614  3411  2597 25236  4386  4650  7298  2407 14084  2463  3103 10605\n",
      "  2964  3325  2580  3471  4865 99999  6514  1471  3674  2329  2105  2885\n",
      " 25124  2176 10520  2202  2961 27828  6767  2228  1506 13550  1409  2635\n",
      "  5556 14344  4787  3781  3137  3818   914  4064   401  2829  2977  4934\n",
      "  2062  2354  3464  5455 15020  1424  3273 22040  4416  3908 10566   991\n",
      "  4931  1086  7430 34095  6497   114  9386  2346  3418  3432  2907  1151\n",
      "  2414  2290 15831 41310  4508  2050  2538  3456  6418  1848  3887  7896\n",
      "  5721  9562  1455  2036  3942  1831 11678  2936  2993  7443  6360  1797\n",
      "  1173  4687  6723  2009  6097  2653  1639 18481  7978  2387  5060]\n",
      "************************\n",
      "Unique values of feature :  capitalloss\n",
      "[   0 1977 1380 1887 1902 1762 1721 2051 2377 1669 2352 1672  653 2415\n",
      " 2392 1504 1719 2001 1590 1651 1876 1628 1848 1564 1980 1340 2339 1740\n",
      " 2002 1579 1741 1408 2258 1485 1602  419 2547 2174 2206 2205 1726 2444\n",
      " 1138 2238 2179  625  213 1816 1539  880 1668 1092 1594 2042 2231 1844\n",
      "  810 2824 2559 2057 1573 1974  974 2149 1825 1735 1258 2603 2282  323\n",
      " 4356 2246 1617 1648 2489 3770 1755 3683 2129 2267 2080 2457  155 3900\n",
      " 2201 1944 2467 2163 2754 2472 3004 1411]\n",
      "************************\n",
      "Unique values of feature :  hoursperweek\n",
      "[28 40 35  5 55 50 60 20 45 16 24  6 30 25 36 42  8 38 80 58  9 46 48 32\n",
      " 12 70 47 37 21 64 26 14 15 10  4 65 72 18 56 33 75  7 52 44 99 43  2 53\n",
      " 39 54 62 41 59  1 57 78 90 34 66 11 49 84  3 17 68 22 27 13 98 85 31 51\n",
      " 77 63 23 87 88 73 89 97 19 94 29 96 67 82 86 91 81 76 92 61 74 95]\n",
      "************************\n",
      "Unique values of feature :  nativecountry\n",
      "[' United-States' ' Mexico' ' Portugal' ' El-Salvador' ' Poland' ' France'\n",
      " ' Puerto-Rico' ' Canada' ' Cuba' ' Taiwan' ' Philippines' ' South'\n",
      " ' Dominican-Republic' ' Jamaica' ' Honduras' ' Haiti' ' Germany'\n",
      " ' Guatemala' ' England' ' Italy' ' China' ' India' ' Japan' ' Yugoslavia'\n",
      " ' Iran' ' Thailand' ' Peru' ' Outlying-US(Guam-USVI-etc)' ' Scotland'\n",
      " ' Trinadad&Tobago' ' Greece' ' Nicaragua' ' Cambodia' ' Vietnam' ' Hong'\n",
      " ' Columbia' ' Ireland' ' Ecuador' ' Laos' ' Hungary'\n",
      " ' Holand-Netherlands']\n",
      "************************\n",
      "Unique values of feature :  SalStat\n",
      "[' less than or equal to 50,000' ' greater than 50,000']\n",
      "************************\n"
     ]
    }
   ],
   "source": [
    "for i in Df.columns:\n",
    "    print(\"Unique values of feature : \",i)\n",
    "    print(Df[i].unique())\n",
    "    print(\"************************\")"
   ]
  },
  {
   "cell_type": "code",
   "execution_count": 82,
   "metadata": {},
   "outputs": [],
   "source": [
    "#observation: Jobtype and occupation are having the \"?\" so need to convert it to nan values"
   ]
  },
  {
   "cell_type": "code",
   "execution_count": 83,
   "metadata": {},
   "outputs": [
    {
     "data": {
      "text/html": [
       "<div>\n",
       "<style scoped>\n",
       "    .dataframe tbody tr th:only-of-type {\n",
       "        vertical-align: middle;\n",
       "    }\n",
       "\n",
       "    .dataframe tbody tr th {\n",
       "        vertical-align: top;\n",
       "    }\n",
       "\n",
       "    .dataframe thead th {\n",
       "        text-align: right;\n",
       "    }\n",
       "</style>\n",
       "<table border=\"1\" class=\"dataframe\">\n",
       "  <thead>\n",
       "    <tr style=\"text-align: right;\">\n",
       "      <th></th>\n",
       "      <th>age</th>\n",
       "      <th>JobType</th>\n",
       "      <th>EdType</th>\n",
       "      <th>maritalstatus</th>\n",
       "      <th>occupation</th>\n",
       "      <th>relationship</th>\n",
       "      <th>race</th>\n",
       "      <th>gender</th>\n",
       "      <th>capitalgain</th>\n",
       "      <th>capitalloss</th>\n",
       "      <th>hoursperweek</th>\n",
       "      <th>nativecountry</th>\n",
       "      <th>SalStat</th>\n",
       "    </tr>\n",
       "  </thead>\n",
       "  <tbody>\n",
       "    <tr>\n",
       "      <th>8</th>\n",
       "      <td>17</td>\n",
       "      <td>?</td>\n",
       "      <td>11th</td>\n",
       "      <td>Never-married</td>\n",
       "      <td>?</td>\n",
       "      <td>Own-child</td>\n",
       "      <td>White</td>\n",
       "      <td>Female</td>\n",
       "      <td>0</td>\n",
       "      <td>0</td>\n",
       "      <td>5</td>\n",
       "      <td>United-States</td>\n",
       "      <td>less than or equal to 50,000</td>\n",
       "    </tr>\n",
       "    <tr>\n",
       "      <th>17</th>\n",
       "      <td>32</td>\n",
       "      <td>?</td>\n",
       "      <td>Some-college</td>\n",
       "      <td>Married-civ-spouse</td>\n",
       "      <td>?</td>\n",
       "      <td>Husband</td>\n",
       "      <td>White</td>\n",
       "      <td>Male</td>\n",
       "      <td>0</td>\n",
       "      <td>0</td>\n",
       "      <td>40</td>\n",
       "      <td>United-States</td>\n",
       "      <td>less than or equal to 50,000</td>\n",
       "    </tr>\n",
       "    <tr>\n",
       "      <th>29</th>\n",
       "      <td>22</td>\n",
       "      <td>?</td>\n",
       "      <td>Some-college</td>\n",
       "      <td>Never-married</td>\n",
       "      <td>?</td>\n",
       "      <td>Own-child</td>\n",
       "      <td>White</td>\n",
       "      <td>Male</td>\n",
       "      <td>0</td>\n",
       "      <td>0</td>\n",
       "      <td>40</td>\n",
       "      <td>United-States</td>\n",
       "      <td>less than or equal to 50,000</td>\n",
       "    </tr>\n",
       "    <tr>\n",
       "      <th>42</th>\n",
       "      <td>52</td>\n",
       "      <td>?</td>\n",
       "      <td>12th</td>\n",
       "      <td>Never-married</td>\n",
       "      <td>?</td>\n",
       "      <td>Other-relative</td>\n",
       "      <td>Black</td>\n",
       "      <td>Male</td>\n",
       "      <td>594</td>\n",
       "      <td>0</td>\n",
       "      <td>40</td>\n",
       "      <td>United-States</td>\n",
       "      <td>less than or equal to 50,000</td>\n",
       "    </tr>\n",
       "    <tr>\n",
       "      <th>44</th>\n",
       "      <td>63</td>\n",
       "      <td>?</td>\n",
       "      <td>1st-4th</td>\n",
       "      <td>Married-civ-spouse</td>\n",
       "      <td>?</td>\n",
       "      <td>Husband</td>\n",
       "      <td>White</td>\n",
       "      <td>Male</td>\n",
       "      <td>0</td>\n",
       "      <td>0</td>\n",
       "      <td>35</td>\n",
       "      <td>United-States</td>\n",
       "      <td>less than or equal to 50,000</td>\n",
       "    </tr>\n",
       "    <tr>\n",
       "      <th>...</th>\n",
       "      <td>...</td>\n",
       "      <td>...</td>\n",
       "      <td>...</td>\n",
       "      <td>...</td>\n",
       "      <td>...</td>\n",
       "      <td>...</td>\n",
       "      <td>...</td>\n",
       "      <td>...</td>\n",
       "      <td>...</td>\n",
       "      <td>...</td>\n",
       "      <td>...</td>\n",
       "      <td>...</td>\n",
       "      <td>...</td>\n",
       "    </tr>\n",
       "    <tr>\n",
       "      <th>31884</th>\n",
       "      <td>67</td>\n",
       "      <td>?</td>\n",
       "      <td>11th</td>\n",
       "      <td>Married-civ-spouse</td>\n",
       "      <td>?</td>\n",
       "      <td>Husband</td>\n",
       "      <td>White</td>\n",
       "      <td>Male</td>\n",
       "      <td>0</td>\n",
       "      <td>0</td>\n",
       "      <td>8</td>\n",
       "      <td>United-States</td>\n",
       "      <td>less than or equal to 50,000</td>\n",
       "    </tr>\n",
       "    <tr>\n",
       "      <th>31885</th>\n",
       "      <td>30</td>\n",
       "      <td>?</td>\n",
       "      <td>Assoc-voc</td>\n",
       "      <td>Divorced</td>\n",
       "      <td>?</td>\n",
       "      <td>Unmarried</td>\n",
       "      <td>White</td>\n",
       "      <td>Female</td>\n",
       "      <td>0</td>\n",
       "      <td>0</td>\n",
       "      <td>40</td>\n",
       "      <td>United-States</td>\n",
       "      <td>less than or equal to 50,000</td>\n",
       "    </tr>\n",
       "    <tr>\n",
       "      <th>31934</th>\n",
       "      <td>20</td>\n",
       "      <td>?</td>\n",
       "      <td>HS-grad</td>\n",
       "      <td>Never-married</td>\n",
       "      <td>?</td>\n",
       "      <td>Other-relative</td>\n",
       "      <td>White</td>\n",
       "      <td>Female</td>\n",
       "      <td>0</td>\n",
       "      <td>0</td>\n",
       "      <td>35</td>\n",
       "      <td>United-States</td>\n",
       "      <td>less than or equal to 50,000</td>\n",
       "    </tr>\n",
       "    <tr>\n",
       "      <th>31945</th>\n",
       "      <td>28</td>\n",
       "      <td>?</td>\n",
       "      <td>Some-college</td>\n",
       "      <td>Married-civ-spouse</td>\n",
       "      <td>?</td>\n",
       "      <td>Wife</td>\n",
       "      <td>White</td>\n",
       "      <td>Female</td>\n",
       "      <td>0</td>\n",
       "      <td>1887</td>\n",
       "      <td>40</td>\n",
       "      <td>United-States</td>\n",
       "      <td>greater than 50,000</td>\n",
       "    </tr>\n",
       "    <tr>\n",
       "      <th>31967</th>\n",
       "      <td>80</td>\n",
       "      <td>?</td>\n",
       "      <td>HS-grad</td>\n",
       "      <td>Widowed</td>\n",
       "      <td>?</td>\n",
       "      <td>Not-in-family</td>\n",
       "      <td>White</td>\n",
       "      <td>Male</td>\n",
       "      <td>0</td>\n",
       "      <td>0</td>\n",
       "      <td>24</td>\n",
       "      <td>United-States</td>\n",
       "      <td>less than or equal to 50,000</td>\n",
       "    </tr>\n",
       "  </tbody>\n",
       "</table>\n",
       "<p>1605 rows × 13 columns</p>\n",
       "</div>"
      ],
      "text/plain": [
       "       age JobType         EdType        maritalstatus occupation  \\\n",
       "8       17       ?           11th        Never-married          ?   \n",
       "17      32       ?   Some-college   Married-civ-spouse          ?   \n",
       "29      22       ?   Some-college        Never-married          ?   \n",
       "42      52       ?           12th        Never-married          ?   \n",
       "44      63       ?        1st-4th   Married-civ-spouse          ?   \n",
       "...    ...     ...            ...                  ...        ...   \n",
       "31884   67       ?           11th   Married-civ-spouse          ?   \n",
       "31885   30       ?      Assoc-voc             Divorced          ?   \n",
       "31934   20       ?        HS-grad        Never-married          ?   \n",
       "31945   28       ?   Some-college   Married-civ-spouse          ?   \n",
       "31967   80       ?        HS-grad              Widowed          ?   \n",
       "\n",
       "          relationship    race   gender  capitalgain  capitalloss  \\\n",
       "8            Own-child   White   Female            0            0   \n",
       "17             Husband   White     Male            0            0   \n",
       "29           Own-child   White     Male            0            0   \n",
       "42      Other-relative   Black     Male          594            0   \n",
       "44             Husband   White     Male            0            0   \n",
       "...                ...     ...      ...          ...          ...   \n",
       "31884          Husband   White     Male            0            0   \n",
       "31885        Unmarried   White   Female            0            0   \n",
       "31934   Other-relative   White   Female            0            0   \n",
       "31945             Wife   White   Female            0         1887   \n",
       "31967    Not-in-family   White     Male            0            0   \n",
       "\n",
       "       hoursperweek   nativecountry                        SalStat  \n",
       "8                 5   United-States   less than or equal to 50,000  \n",
       "17               40   United-States   less than or equal to 50,000  \n",
       "29               40   United-States   less than or equal to 50,000  \n",
       "42               40   United-States   less than or equal to 50,000  \n",
       "44               35   United-States   less than or equal to 50,000  \n",
       "...             ...             ...                            ...  \n",
       "31884             8   United-States   less than or equal to 50,000  \n",
       "31885            40   United-States   less than or equal to 50,000  \n",
       "31934            35   United-States   less than or equal to 50,000  \n",
       "31945            40   United-States            greater than 50,000  \n",
       "31967            24   United-States   less than or equal to 50,000  \n",
       "\n",
       "[1605 rows x 13 columns]"
      ]
     },
     "execution_count": 83,
     "metadata": {},
     "output_type": "execute_result"
    }
   ],
   "source": [
    "Df[Df['JobType']==' ?']"
   ]
  },
  {
   "cell_type": "code",
   "execution_count": 84,
   "metadata": {},
   "outputs": [],
   "source": [
    "Df=pd.read_csv(\"D:\\python iitb cous\\data files\\week4 datasets\\income.csv\", na_values=[' ?'])\n",
    "Df=Df.drop_duplicates()"
   ]
  },
  {
   "cell_type": "code",
   "execution_count": 85,
   "metadata": {},
   "outputs": [
    {
     "data": {
      "text/plain": [
       "(28516, 13)"
      ]
     },
     "execution_count": 85,
     "metadata": {},
     "output_type": "execute_result"
    }
   ],
   "source": [
    "Df.shape"
   ]
  },
  {
   "cell_type": "code",
   "execution_count": 86,
   "metadata": {},
   "outputs": [
    {
     "data": {
      "text/plain": [
       "age                 0\n",
       "JobType          1605\n",
       "EdType              0\n",
       "maritalstatus       0\n",
       "occupation       1612\n",
       "relationship        0\n",
       "race                0\n",
       "gender              0\n",
       "capitalgain         0\n",
       "capitalloss         0\n",
       "hoursperweek        0\n",
       "nativecountry       0\n",
       "SalStat             0\n",
       "dtype: int64"
      ]
     },
     "execution_count": 86,
     "metadata": {},
     "output_type": "execute_result"
    }
   ],
   "source": [
    "Df.isnull().sum()"
   ]
  },
  {
   "cell_type": "code",
   "execution_count": 87,
   "metadata": {},
   "outputs": [
    {
     "data": {
      "text/plain": [
       "'Observation : 1. Missing values in jobtype =1809\\n                2. Missing values in occupation =1816\\n                3. There are 1809 rows where two specific columns i.e occupation and jobtype have missing values \\n                4. so where ever JobType is nan there occupation is also nan\\n                5. So it is difficult to impute missing values. so drop missing values'"
      ]
     },
     "execution_count": 87,
     "metadata": {},
     "output_type": "execute_result"
    }
   ],
   "source": [
    " '''Observation : 1. Missing values in jobtype =1809\n",
    "                 2. Missing values in occupation =1816\n",
    "                 3. There are 1809 rows where two specific columns i.e occupation and jobtype have missing values \n",
    "                 4. so where ever JobType is nan there occupation is also nan\n",
    "                 5. So it is difficult to impute missing values. so drop missing values'''"
   ]
  },
  {
   "cell_type": "code",
   "execution_count": 88,
   "metadata": {},
   "outputs": [
    {
     "data": {
      "text/plain": [
       "(26904, 13)"
      ]
     },
     "execution_count": 88,
     "metadata": {},
     "output_type": "execute_result"
    }
   ],
   "source": [
    "Df=Df.dropna(axis=0)\n",
    "Df.shape"
   ]
  },
  {
   "cell_type": "markdown",
   "metadata": {},
   "source": [
    "# Dealing with Outliers"
   ]
  },
  {
   "cell_type": "code",
   "execution_count": 89,
   "metadata": {},
   "outputs": [
    {
     "name": "stdout",
     "output_type": "stream",
     "text": [
      "Boxplot for feature : age\n"
     ]
    },
    {
     "data": {
      "image/png": "[encoded data removed]",
      "text/plain": [
       "<Figure size 432x288 with 1 Axes>"
      ]
     },
     "metadata": {
      "needs_background": "light"
     },
     "output_type": "display_data"
    },
    {
     "name": "stdout",
     "output_type": "stream",
     "text": [
      "Boxplot for feature : capitalgain\n"
     ]
    },
    {
     "data": {
      "image/png": "[encoded data removed]",
      "text/plain": [
       "<Figure size 432x288 with 1 Axes>"
      ]
     },
     "metadata": {
      "needs_background": "light"
     },
     "output_type": "display_data"
    },
    {
     "name": "stdout",
     "output_type": "stream",
     "text": [
      "Boxplot for feature : capitalloss\n"
     ]
    },
    {
     "data": {
      "image/png": "[encoded data removed]",
      "text/plain": [
       "<Figure size 432x288 with 1 Axes>"
      ]
     },
     "metadata": {
      "needs_background": "light"
     },
     "output_type": "display_data"
    },
    {
     "name": "stdout",
     "output_type": "stream",
     "text": [
      "Boxplot for feature : hoursperweek\n"
     ]
    },
    {
     "data": {
      "image/png": "[encoded data removed]",
      "text/plain": [
       "<Figure size 432x288 with 1 Axes>"
      ]
     },
     "metadata": {
      "needs_background": "light"
     },
     "output_type": "display_data"
    }
   ],
   "source": [
    "col=['age', 'capitalgain', 'capitalloss','hoursperweek' ]\n",
    "for i in col:\n",
    "    print(\"Boxplot for feature :\", i  )\n",
    "    sns.boxplot(x=Df['SalStat'],y=Df[i])\n",
    "    plt.show()"
   ]
  },
  {
   "cell_type": "code",
   "execution_count": 90,
   "metadata": {},
   "outputs": [],
   "source": [
    "# from the box plot we can see that there are number of outliers in features\n",
    "## Finding the outliuers using IQR Method\n",
    "def outlier(list):\n",
    "    import pandas as pd\n",
    "    df1=pd.Series(list)\n",
    "    q1=df1.quantile(0.25)\n",
    "    q3=df1.quantile(0.75)\n",
    "    iqr=q3-q1\n",
    "    left=q1-(1.5*iqr)\n",
    "    right=q3+(1.5*iqr)\n",
    "    outliers_left=[]\n",
    "    outliers_right=[]\n",
    "    for i in list:\n",
    "        if i<left:\n",
    "            outliers_left.append(i)\n",
    "        elif i>right:\n",
    "            outliers_right.append(i)\n",
    "    print ('data range', left,'to', right)\n",
    "    if len(outliers_left)>0:\n",
    "        print ('Outliers at left side ',outliers_left)\n",
    "    elif len(outliers_right)>0:\n",
    "        print ('Outliers at right side ',outliers_right)\n",
    "    else:\n",
    "        print ('There are no outliers in your data')\n",
    "    return "
   ]
  },
  {
   "cell_type": "code",
   "execution_count": 91,
   "metadata": {},
   "outputs": [
    {
     "name": "stdout",
     "output_type": "stream",
     "text": [
      "feature : age\n",
      "data range 0.5 to 76.5\n",
      "Outliers at right side  [81, 78, 90, 88, 90, 77, 90, 77, 78, 80, 90, 81, 81, 80, 90, 79, 81, 90, 80, 90, 90, 79, 78, 79, 84, 90, 77, 80, 77, 90, 81, 83, 84, 79, 85, 82, 79, 77, 90, 90, 84, 78, 78, 80, 90, 90, 77, 84, 90, 90, 77, 90, 77, 78, 77, 81, 78, 82, 81, 77, 80, 90, 80, 84, 82, 78, 79, 90, 84, 90, 83, 78, 80, 77, 78, 79, 80, 79, 80, 90, 90, 90, 81, 83, 90, 90, 81, 80, 80, 90, 79, 77, 77, 80, 82, 85, 80, 79, 90, 77, 79, 81, 77, 88, 90, 82, 88, 77, 83, 77, 79, 77, 86, 90, 77, 82, 83, 81, 79, 84, 78, 78, 84, 79, 78, 90, 80, 81, 78, 81, 80, 82, 90, 90, 85, 79, 90, 77]\n",
      "feature : capitalgain\n",
      "data range 0.0 to 0.0\n",
      "Outliers at right side  [15024, 15024, 7688, 20051, 5013, 7688, 2174, 6849, 1055, 15024, 15024, 15024, 5178, 4101, 8614, 3411, 2597, 25236, 4386, 4650, 7298, 2407, 594, 14084, 7688, 7688, 2463, 5178, 3103, 4386, 4386, 10605, 2174, 7688, 15024, 3103, 4101, 2964, 3325, 2580, 15024, 15024, 3103, 7688, 7298, 3471, 7298, 3103, 4865, 15024, 7298, 3411, 10605, 5178, 15024, 7688, 4650, 99999, 15024, 6514, 5178, 15024, 7298, 1471, 3674, 2329, 7688, 99999, 20051, 5013, 2105, 4386, 3411, 5013, 3325, 7688, 7298, 99999, 2105, 15024, 3325, 15024, 15024, 2885, 99999, 10520, 99999, 15024, 2407, 2202, 5178, 15024, 6514, 15024, 7688, 2961, 99999, 1055, 15024, 6849, 15024, 27828, 99999, 6767, 3103, 99999, 3103, 7688, 7298, 2202, 8614, 15024, 3103, 2174, 2228, 7298, 99999, 3325, 5178, 5178, 1506, 7688, 15024, 8614, 13550, 3103, 7688, 1409, 2635, 4865, 20051, 8614, 99999, 5556, 5013, 15024, 7298, 6767, 1055, 15024, 7298, 7688, 99999, 7688, 15024, 594, 14344, 15024, 99999, 7298, 4787, 3781, 15024, 3137, 3325, 7298, 4386, 15024, 3103, 3818, 7688, 7298, 5178, 914, 4064, 4064, 7688, 7688, 7298, 401, 8614, 8614, 7298, 15024, 7688, 4101, 10520, 3103, 7688, 2829, 7688, 4865, 99999, 8614, 2977, 4934, 2597, 7298, 7688, 594, 4386, 6849, 5013, 14084, 7688, 7688, 7298, 2062, 3103, 3325, 2829, 4787, 4650, 15024, 15024, 15024, 15024, 99999, 7688, 15024, 2829, 2354, 10520, 7298, 99999, 2964, 15024, 3464, 3103, 5455, 7688, 7688, 7688, 3325, 5013, 99999, 15024, 3464, 15024, 15020, 2885, 7298, 7688, 3325, 15024, 7688, 7298, 4386, 7298, 1424, 5013, 5178, 15024, 3273, 10520, 15024, 7688, 22040, 1055, 7688, 3137, 1055, 15024, 7688, 7688, 7688, 3325, 7298, 4416, 5178, 7298, 15024, 15024, 3325, 594, 99999, 3137, 15024, 3137, 15024, 5013, 10566, 4650, 3325, 5013, 7688, 914, 4064, 1055, 5178, 6849, 15024, 1506, 3325, 3137, 2885, 14084, 2829, 4931, 7688, 3103, 15024, 27828, 15024, 7688, 7298, 15024, 15024, 8614, 5013, 99999, 5178, 15024, 99999, 7430, 15024, 5013, 8614, 7688, 15024, 7688, 7688, 34095, 15024, 6497, 4064, 15024, 7688, 3674, 99999, 3137, 15024, 5178, 5013, 7298, 7298, 6849, 15024, 15024, 3908, 114, 2407, 3137, 7298, 4650, 8614, 14344, 15024, 8614, 7430, 4101, 2346, 5178, 5013, 99999, 10520, 914, 2174, 7298, 2407, 2407, 15024, 8614, 27828, 5013, 10605, 7298, 594, 7688, 7298, 99999, 2580, 3103, 2174, 4386, 10520, 5178, 7298, 7688, 99999, 3411, 15024, 4064, 5013, 2580, 20051, 7430, 15024, 13550, 2354, 7688, 7298, 3325, 99999, 7688, 15024, 4416, 15024, 2977, 8614, 7688, 7298, 7688, 7298, 99999, 2597, 2174, 8614, 7298, 15024, 2885, 15024, 14344, 7688, 2228, 3103, 4064, 15024, 15024, 2174, 5013, 3325, 2907, 3103, 10520, 15024, 1151, 5013, 27828, 4650, 14084, 7688, 99999, 3103, 7298, 7298, 9386, 8614, 99999, 2414, 2290, 7688, 10520, 7688, 4064, 20051, 3418, 8614, 99999, 10566, 20051, 2580, 4386, 114, 7298, 15024, 5013, 14084, 7298, 15024, 594, 10520, 15831, 27828, 15024, 41310, 594, 14084, 15024, 4650, 15024, 4650, 7688, 1151, 25236, 99999, 27828, 2597, 2346, 15024, 2463, 25236, 2597, 4386, 15024, 27828, 4508, 4386, 5013, 4386, 5455, 15024, 5013, 2174, 14084, 2829, 99999, 2580, 3471, 4064, 15024, 5013, 15024, 3103, 7298, 5013, 6514, 2538, 7298, 3908, 10566, 7688, 7688, 4386, 7298, 1055, 3103, 7688, 15024, 15024, 4386, 7688, 99999, 6497, 7298, 15020, 7688, 34095, 3137, 2105, 3411, 15024, 2885, 7298, 99999, 14344, 4650, 27828, 3411, 3781, 13550, 7688, 15024, 15024, 7298, 7298, 2354, 7298, 2635, 2174, 15024, 4101, 3781, 99999, 7430, 99999, 14084, 99999, 2635, 7298, 99999, 4064, 4101, 7688, 3464, 2174, 3103, 4934, 10520, 7688, 7688, 2050, 99999, 3456, 2202, 13550, 2907, 15024, 3908, 7298, 7298, 4650, 7688, 3103, 7688, 1471, 4934, 3464, 4787, 7688, 3674, 5178, 4386, 2105, 14344, 15024, 7298, 5013, 15024, 4386, 4865, 7430, 15024, 1848, 3887, 3471, 4386, 7688, 3325, 4386, 15024, 3103, 15024, 3325, 2977, 13550, 4101, 3103, 99999, 99999, 15024, 7688, 3674, 7896, 4865, 2635, 2885, 2174, 8614, 5721, 3103, 2174, 4650, 4386, 15024, 2829, 14344, 5178, 9562, 99999, 2414, 15024, 4064, 3325, 2597, 2829, 99999, 7688, 99999, 5455, 7688, 15024, 4101, 15024, 15024, 20051, 3137, 7688, 4386, 6418, 5178, 15024, 7688, 10520, 4064, 15024, 3103, 9386, 4101, 3908, 7688, 15024, 15024, 7298, 7688, 7298, 4386, 3325, 20051, 4064, 10520, 4101, 3325, 1455, 99999, 4101, 27828, 99999, 1055, 7688, 10520, 7298, 4386, 3908, 15024, 2829, 15024, 10566, 4064, 3908, 7688, 15024, 2329, 6849, 2036, 3887, 2174, 4865, 8614, 3942, 13550, 15024, 3325, 2202, 7298, 4386, 1831, 8614, 99999, 5178, 7688, 5455, 7298, 4064, 8614, 3325, 3325, 10520, 99999, 7688, 3103, 4650, 2885, 2885, 14084, 15024, 3942, 1424, 7688, 10520, 15024, 1831, 914, 9562, 3471, 14084, 2176, 15024, 3942, 1055, 25236, 15024, 15024, 7298, 3908, 15024, 7298, 14084, 4064, 3137, 15024, 5013, 4386, 15024, 2463, 2964, 14084, 2829, 99999, 594, 3908, 3325, 6497, 20051, 4386, 5013, 5013, 7688, 2907, 7688, 3103, 9386, 5013, 1424, 7298, 99999, 2176, 15024, 5013, 3137, 2202, 2202, 7688, 15024, 7688, 99999, 2174, 7688, 10605, 7688, 7688, 594, 11678, 10520, 7688, 5013, 3103, 2176, 99999, 4416, 3103, 15024, 5013, 15024, 7298, 15024, 3674, 5178, 99999, 99999, 7688, 7298, 6849, 3273, 5013, 3103, 3325, 7298, 15024, 5013, 7688, 4787, 15024, 2105, 4508, 5013, 5178, 3674, 7298, 7688, 20051, 4787, 14084, 2936, 10566, 7298, 6849, 4386, 7688, 3818, 27828, 8614, 7298, 2202, 7298, 7298, 4650, 1151, 4508, 2993, 99999, 2829, 7688, 7688, 7688, 7298, 14344, 5178, 5013, 3103, 5178, 4064, 3411, 2174, 3325, 3464, 3887, 15831, 7688, 7688, 7298, 20051, 7688, 2174, 7298, 4386, 5455, 25236, 7298, 3325, 5721, 7298, 7443, 2036, 3137, 7688, 7298, 8614, 7688, 99999, 2176, 7688, 7688, 5178, 99999, 4386, 4064, 6360, 1848, 99999, 3103, 4386, 5178, 15024, 2174, 7688, 15024, 15024, 15024, 7688, 7298, 7298, 2036, 7688, 9562, 7298, 7298, 6849, 4416, 7688, 7688, 2354, 5013, 14084, 3781, 8614, 5178, 7688, 1848, 99999, 99999, 7298, 7298, 3908, 3908, 7298, 5178, 5013, 15024, 7298, 3464, 15024, 3103, 5455, 8614, 7298, 99999, 7298, 3325, 14084, 7298, 3103, 7298, 7688, 3464, 3325, 4064, 1506, 3908, 594, 15024, 3137, 3411, 15024, 7298, 4386, 15024, 99999, 6849, 1848, 20051, 4650, 7688, 7298, 3137, 3781, 15024, 3137, 7298, 15831, 7298, 2907, 5556, 2635, 5178, 4650, 4865, 2407, 7688, 594, 3103, 7298, 15024, 6849, 5013, 13550, 5178, 5178, 3103, 2174, 4508, 99999, 7298, 15024, 2176, 99999, 15024, 15024, 2463, 7688, 27828, 15024, 7298, 2407, 3103, 7688, 3325, 4650, 4416, 2829, 2407, 7298, 15024, 15024, 6849, 15024, 7298, 7298, 4064, 7688, 3908, 7688, 4787, 4386, 15024, 7688, 7688, 10605, 15024, 99999, 7688, 7688, 3103, 4687, 4386, 2829, 2174, 3103, 14084, 2829, 99999, 14084, 2174, 2463, 20051, 3273, 1151, 4101, 14084, 1151, 5013, 14344, 99999, 1797, 3103, 7298, 5178, 27828, 3908, 5013, 5178, 7298, 15024, 15024, 10520, 15024, 7298, 3325, 14344, 7688, 7298, 5178, 14084, 6849, 15024, 2174, 7298, 99999, 27828, 7688, 7298, 5013, 10520, 7298, 3464, 4416, 6723, 7298, 3464, 2009, 14084, 14084, 3103, 15024, 2176, 3411, 7688, 2202, 7688, 7688, 14084, 99999, 15024, 15024, 13550, 7298, 15024, 7298, 3103, 7688, 15024, 15024, 6497, 14344, 7688, 15024, 4650, 7298, 99999, 3103, 5013, 4650, 14344, 7298, 7298, 13550, 7688, 4064, 4508, 2829, 7688, 15024, 5178, 5178, 99999, 7688, 7688, 10520, 7688, 2176, 34095, 15024, 1831, 15024, 3418, 5178, 2885, 7298, 7688, 15831, 15024, 15024, 15024, 99999, 3464, 7298, 15024, 2829, 2414, 4416, 7688, 99999, 7298, 14084, 2174, 2407, 15024, 15024, 15024, 7688, 1797, 1055, 594, 15024, 2885, 5178, 15024, 14344, 2202, 99999, 6497, 3908, 1506, 7298, 6497, 7443, 3103, 2885, 3942, 2580, 2964, 3942, 5178, 7298, 3103, 3325, 2885, 3325, 4386, 99999, 3325, 3908, 4865, 3432, 7688, 6849, 7298, 10520, 15024, 3674, 14084, 6849, 2463, 7688, 9386, 4650, 15024, 2354, 99999, 7298, 15024, 15024, 3908, 27828, 3103, 3908, 2176, 2290, 20051, 914, 6418, 13550, 4650, 9386, 1055, 99999, 7688, 3103, 2907, 2174, 7298, 13550, 6097, 6849, 10520, 2407, 3103, 7688, 7298, 7298, 15024, 7298, 7688, 3781, 7688, 15024, 4064, 4865, 4386, 5178, 14084, 4650, 4787, 3103, 3418, 4650, 15024, 7430, 5178, 2354, 3908, 2174, 3411, 4386, 3325, 15024, 7688, 3942, 5178, 2174, 5178, 3908, 9386, 15024, 1639, 15024, 15024, 99999, 7298, 1055, 8614, 3137, 2174, 1848, 5178, 5178, 7688, 4064, 15024, 2653, 99999, 9386, 3942, 11678, 5178, 4064, 18481, 7298, 7298, 99999, 20051, 2176, 15024, 15024, 7298, 7298, 4386, 99999, 2062, 7688, 27828, 5178, 2202, 8614, 2202, 8614, 20051, 15024, 15024, 3411, 2463, 2580, 8614, 7298, 5556, 3103, 99999, 4416, 99999, 7298, 14344, 15024, 4386, 4386, 7298, 15024, 20051, 7298, 7688, 3908, 15024, 2829, 7688, 99999, 5455, 10520, 2653, 7298, 99999, 4787, 4064, 4787, 99999, 4386, 3103, 594, 2829, 3887, 20051, 5178, 20051, 7298, 5178, 15024, 4386, 1055, 3781, 14344, 1506, 15024, 7298, 5178, 99999, 5178, 4650, 3103, 7688, 15024, 15024, 2885, 7688, 3273, 6767, 3674, 3818, 7688, 7688, 2176, 5178, 2290, 25124, 4787, 3137, 99999, 4386, 7688, 5178, 14084, 4416, 13550, 15024, 20051, 15024, 5178, 1797, 7688, 2907, 99999, 99999, 15024, 3103, 7688, 5178, 10520, 7688, 15024, 1055, 914, 3411, 3464, 3325, 9386, 14084, 7688, 10605, 594, 15024, 4934, 3103, 7298, 18481, 8614, 15024, 3103, 15024, 1055, 3464, 4650, 7688, 7298, 7298, 2936, 7688, 13550, 13550, 6497, 7688, 4386, 7688, 7298, 15024, 2407, 7298, 3103, 4787, 27828, 7688, 2407, 7688, 7688, 8614, 99999, 2964, 2597, 114, 8614, 20051, 7688, 594, 99999, 3908, 7688, 7298, 27828, 2977, 5013, 5178, 2174, 99999, 2414, 7688, 4508, 3411, 594, 3908, 4787, 7688, 14344, 14084, 7298, 15024, 41310, 1506, 7688, 5455, 2597, 27828, 7298, 3103, 5013, 99999, 7688, 4787, 4386, 2174, 15024, 4064, 7298, 7430, 3674, 7688, 15024, 6360, 4386, 2635, 5013, 4787, 15024, 2597, 7298, 7298, 2829, 594, 7298, 7688, 7688, 5178, 99999, 4101, 4787, 2174, 4650, 15024, 15024, 27828, 2202, 4064, 10520, 10520, 7688, 15024, 10520, 13550, 6849, 4787, 2885, 15024, 2407, 15024, 7298, 3781, 4386, 15024, 3942, 4865, 4865, 4064, 99999, 4386, 5013, 5013, 7298, 4386, 5721, 2174, 4650, 15024, 7688, 2885, 10566, 4508, 3103, 6497, 1151, 20051, 15024, 7298, 15831, 15024, 6849, 3908, 2290, 15024, 4508, 7688, 15024, 4687, 3137, 7688, 15020, 14344, 2354, 27828, 99999, 15024, 2829, 25236, 7688, 7688, 7298, 15024, 10520, 4386, 3103, 4386, 7298, 2174, 9386, 5178, 4064, 3103, 3818, 4650, 4650, 25236, 25236, 2174, 7298, 7298, 7298, 2050, 7298, 2635, 7978, 4508, 2174, 99999, 8614, 7298, 3325, 10520, 3103, 5178, 4386, 7298, 3103, 2174, 7298, 6360, 7688, 99999, 7688, 2105, 99999, 99999, 3103, 3942, 5178, 13550, 2885, 10520, 5013, 7688, 1471, 2977, 7298, 7298, 25124, 2463, 7443, 15024, 14084, 2829, 7688, 5178, 5178, 13550, 7298, 1055, 4101, 2202, 7688, 2829, 7298, 7688, 5013, 7298, 1471, 15024, 15024, 15024, 3137, 2105, 99999, 99999, 114, 2463, 3818, 4865, 7688, 15024, 594, 15024, 7688, 6849, 15024, 7298, 4865, 3103, 1506, 15024, 3464, 99999, 2829, 2290, 2907, 7298, 15024, 3103, 3137, 5013, 4650, 4064, 9562, 6849, 4416, 1831, 15024, 7688, 7298, 1831, 3411, 8614, 15024, 15024, 7688, 5013, 15024, 9386, 20051, 2829, 15024, 15024, 15024, 7688, 3137, 2597, 20051, 99999, 4650, 1506, 4101, 15024, 6418, 15024, 7688, 8614, 7298, 2885, 3942, 114, 2829, 15024, 6849, 15024, 2176, 594, 9386, 99999, 8614, 2580, 15024, 15024, 13550, 3908, 3103, 2036, 7298, 7688, 10520, 7298, 3103, 3325, 7688, 7688, 7688, 1506, 7688, 2009, 594, 7688, 15024, 3103, 99999, 8614, 99999, 8614, 15024, 4386, 2964, 99999, 2907, 2463, 1831, 3325, 5013, 15024, 99999, 3103, 7298, 15024, 15024, 6849, 15020, 3908, 15024, 15024, 7688, 6497, 99999, 14084, 2346, 3137, 5455, 594, 15024, 7688, 15024, 15024, 5013, 7298, 6418, 10605, 99999, 2580, 99999, 25236, 2597, 7688, 7688, 8614, 3325, 3464, 14344, 4934, 13550, 5178, 2174, 7688, 99999, 10520, 15024, 15024, 4064, 4650, 15024, 15024, 7298, 2635, 914, 15024, 99999, 3464, 3942, 99999, 3103, 20051, 2597, 3103, 991, 3325, 3887, 14344, 4386, 99999, 991, 7298, 6418, 7688, 1471, 7688, 3908, 2597, 2354, 1055, 99999, 5178, 3137, 5013, 5178, 5178, 7688, 4650, 7298, 3103, 2414, 2653, 99999, 15024, 1831, 7688, 7688, 4650, 4101, 3103, 5178, 15024, 15024, 8614, 15024, 7298, 3411, 27828, 15024, 3137, 3325, 15024, 99999, 3137, 14344, 3325, 594, 15024, 2176, 7298, 2174, 15024, 15024, 7688, 15024, 10605, 2174, 3103, 7688, 2597, 2407, 2580, 2885, 4934, 99999, 15024, 3103, 99999, 27828, 15024, 3464, 5178, 15024, 7298, 4508, 13550, 4650, 3137, 4787, 8614, 3908, 15024, 7688, 7688, 5455, 594, 7298, 7298, 15024, 7298, 7298, 15024, 3464, 3325, 3674, 3103, 3103, 5178, 20051, 10520, 10605, 7688, 5556, 7688, 99999, 27828, 2829, 7688, 10520, 7298, 5013, 3411, 2174, 7298, 991, 3325, 4650, 7298, 3471, 15024, 15024, 25236, 3103, 2597, 5013, 2105, 99999, 7298, 2174, 99999, 2907, 2354, 5013, 7298, 13550, 2829, 6849, 15024, 99999, 5178, 4064, 13550, 7298, 14084, 5013, 14344, 5178, 5013, 2885, 2346, 2977, 6514, 7298, 99999, 15024, 15024, 2174, 594, 15024, 7298, 20051, 2597, 14344, 15024, 7298, 20051, 4386, 7688, 4650, 1506, 2597, 5178, 7298, 99999, 4650, 4865, 15024, 2329, 7298, 7688, 7298, 3103, 3103, 3103, 1506, 7688, 2597, 7688, 3103, 7688, 5178, 7688, 99999, 7298, 8614, 27828, 1506, 3273, 114, 7298, 7298, 5178, 99999, 4064, 14084, 1506, 99999, 7298, 15024, 5178, 4865, 27828, 594, 5178, 15024, 7688, 4064, 7688, 4865, 5178, 2176, 2202, 99999, 99999, 3781, 3325, 8614, 27828, 14084, 15024, 6849, 2174, 15024, 14344, 3103, 15024, 15024, 27828, 5013, 7298, 2885, 2407, 1055, 7688, 15024, 7298, 15024, 4064, 4787, 3137, 5178, 4386, 3464, 8614, 99999, 7298, 7298, 2977, 15024, 3781, 7298, 7896, 25236, 5013, 15024, 1797, 99999, 2977, 2635, 8614, 5178, 3137, 7688, 99999, 15024, 7688, 99999, 99999, 15024, 99999, 1173, 1471, 15024, 9386, 4386, 7298, 14344, 2885, 5178, 2387, 15024, 3137, 3464, 5013, 4508, 3137, 7688, 15024, 7298, 3908, 15024, 7298, 7688, 4101, 1409, 7688, 7688, 13550, 15024, 2414, 1797, 4064, 5013, 3674, 3103, 14084, 7688, 4650, 7298, 15024, 15024, 3103, 2174, 8614, 4386, 15024, 15024, 8614, 15024, 3908, 20051, 2174, 3411, 3103, 5178, 2354, 4386, 7298, 4386, 2580, 7688, 7688, 2329, 7688, 15024, 7298, 5013, 7298, 7688, 7688, 7298, 3137, 2176, 20051, 4787, 15024, 3325, 13550, 4787, 9386, 7688, 15024, 3325, 8614, 10520, 7688, 15024, 3103, 2202, 7298, 10520, 7688, 27828, 7298, 2174, 3432, 6497, 15024, 7298, 2463, 99999, 7688, 7298, 5178, 5013, 15024, 27828, 2936, 3325, 3908, 3103, 14084, 7688, 20051, 7298, 3908, 7688, 15024, 7688, 8614, 99999, 4064, 6418, 5455, 7298, 7443, 15024, 27828, 15024, 2829, 5178, 4386, 15024, 7688, 5178, 15024, 3137, 8614, 2635, 14084, 7688, 15024, 7298, 7688, 3325, 10520, 3325, 4101, 3273, 2829, 3942, 4787, 7298, 3471, 14084, 99999, 7688, 10520, 7688, 7298, 2176, 9386, 4064, 3325, 2176, 2885, 10520, 4101, 15024, 7688, 5178, 3411, 10520, 5013, 99999, 7298, 3137, 5178, 4064, 2961, 2597, 594, 7688, 4386, 7298, 4934, 15024, 7688, 1151, 15024, 2176, 6723, 7688, 7688, 15024, 5060, 20051, 27828, 15024, 914, 4386, 594, 2829, 2228, 3137, 6497, 8614, 4416, 3887, 3464, 99999, 3456, 4386, 15024, 9386, 3103, 15024, 6849, 2907, 2407, 3411, 5013, 2176, 15024, 5178, 10520, 99999, 4650, 2597, 7688, 7298, 5178, 15024, 3137, 14344, 7688, 4386, 1151, 15024, 4687, 7298, 7298, 4787, 7298, 3674, 7688, 15024, 7688, 6418, 7688, 7688, 3103, 9386, 7298, 3103, 7298, 10520, 7688, 4386, 4650, 10520, 3325, 7298, 7688, 7298, 7688, 7688, 4386, 7298, 3103, 7688, 5013, 3103, 15024, 15024, 8614, 3137, 7688, 3411, 5178, 15024, 99999, 7688, 7430, 15024, 14344, 99999, 7688, 15024, 7688, 8614, 2829, 3325, 2176, 5013, 1055, 3411, 7298, 7298, 13550, 15024, 1055, 10520, 5178, 20051, 15024, 7688, 99999, 7688, 3103, 15831, 6849, 15024, 2653, 27828, 1471, 7298, 7443, 7298, 15024, 1506, 3471, 99999, 15020, 1086, 15024, 2174, 14084, 5178, 5013, 2407, 14344, 15024, 7688, 4064, 4386, 14084, 7298, 7298, 15024, 1409, 3674, 4064, 1055, 2407, 7298, 7298, 5178, 15024, 7688, 4386, 7298, 2050, 7298, 7298, 15024, 2176, 2174, 594]\n",
      "feature : capitalloss\n"
     ]
    },
    {
     "name": "stdout",
     "output_type": "stream",
     "text": [
      "data range 0.0 to 0.0\n",
      "Outliers at right side  [1977, 1380, 1977, 1887, 1902, 1721, 1902, 1380, 2051, 2377, 1669, 2352, 1902, 1721, 1672, 653, 2415, 2415, 1977, 2392, 1504, 1902, 1719, 1902, 1902, 1977, 1902, 1902, 1590, 1977, 1651, 1977, 1902, 1762, 1887, 1977, 1876, 1628, 1848, 1564, 1762, 1887, 1672, 1902, 2051, 2001, 1980, 1340, 2339, 1628, 1887, 1848, 1977, 1740, 2002, 1902, 1887, 1902, 1902, 1719, 2339, 1902, 1579, 1902, 1741, 1628, 2415, 1408, 1740, 2258, 1485, 1848, 1977, 1485, 1887, 1902, 1669, 1887, 1977, 1741, 1602, 1902, 1719, 1902, 1887, 1887, 1887, 1408, 1579, 1741, 1564, 2547, 2206, 2415, 1590, 2415, 1980, 1741, 1977, 1340, 1902, 1977, 2339, 1977, 2205, 1977, 1726, 1485, 2444, 2392, 1672, 1138, 1902, 1740, 1669, 1902, 1762, 2415, 2238, 1876, 2258, 1977, 1672, 2352, 1977, 1977, 1977, 1977, 1977, 2415, 2002, 1902, 1887, 1669, 1848, 1590, 1590, 2179, 1669, 625, 1902, 1977, 2377, 1902, 1887, 2392, 1485, 1848, 1902, 213, 1672, 1628, 1740, 1977, 1876, 1816, 1887, 1485, 1977, 1887, 1848, 1590, 1902, 2002, 1741, 1876, 1977, 2002, 1628, 1977, 1887, 1719, 2258, 1902, 1887, 1887, 1902, 1672, 1980, 1902, 1887, 1504, 1902, 1539, 1848, 1762, 880, 1977, 1485, 1741, 625, 2415, 1902, 1485, 1848, 1579, 1887, 1668, 1902, 1848, 1564, 1564, 2001, 1092, 1594, 1887, 1902, 1485, 1876, 1902, 1740, 1902, 1902, 1977, 1590, 1672, 1977, 1977, 1902, 1672, 1902, 2377, 1628, 1740, 1740, 2415, 1887, 1902, 1740, 2001, 2042, 1590, 2231, 1579, 1844, 1740, 1977, 2258, 1902, 1902, 1602, 1848, 810, 2824, 1977, 2051, 1602, 1719, 1740, 1740, 1977, 2559, 1887, 1876, 1977, 2258, 2051, 1902, 1977, 1902, 1887, 2051, 1902, 1902, 1977, 1902, 2051, 2392, 2057, 1573, 1740, 1977, 2559, 2205, 1672, 1902, 2559, 1504, 1564, 1977, 1902, 1887, 1902, 2051, 1876, 1974, 1672, 1590, 1848, 1902, 2205, 1590, 1977, 1740, 974, 1564, 2559, 2415, 1669, 1876, 1977, 1876, 2258, 1887, 1977, 1762, 1590, 1602, 1887, 1977, 1902, 1977, 1887, 1485, 2002, 1974, 1485, 1672, 1887, 1408, 2339, 1672, 1848, 2174, 1579, 1876, 1485, 1721, 2559, 1579, 1485, 2149, 1887, 1902, 1719, 1740, 1902, 1848, 1977, 1902, 1485, 1902, 1902, 2415, 1887, 1564, 2205, 1876, 1735, 2206, 1887, 1258, 1977, 2002, 2603, 1977, 1485, 1485, 2282, 1741, 323, 1672, 1902, 1980, 1902, 1602, 1590, 1902, 2002, 1485, 1602, 1590, 1672, 2258, 1721, 2179, 1977, 1672, 1902, 1977, 2179, 1564, 1590, 1485, 2174, 1721, 1902, 1887, 1977, 1902, 2002, 1977, 1579, 1602, 1672, 1902, 2377, 1977, 2042, 1602, 1980, 1876, 1887, 1380, 2001, 2042, 2415, 2377, 1590, 1092, 1485, 1408, 1902, 1977, 1977, 1876, 2231, 2444, 1590, 2246, 1977, 625, 1980, 1902, 1977, 1590, 1594, 810, 1902, 1977, 1848, 2149, 1887, 1741, 2258, 1980, 2051, 1977, 1617, 2258, 2444, 1848, 1485, 1648, 1977, 2002, 1602, 2559, 1848, 1980, 1258, 2824, 1977, 1564, 1977, 1977, 1485, 974, 1617, 1902, 1887, 1887, 1902, 1848, 1977, 1902, 1980, 2258, 1977, 1887, 1902, 1977, 2001, 2231, 1876, 1825, 1902, 2051, 2001, 213, 1902, 1735, 1887, 1590, 1740, 1594, 1564, 1504, 1902, 880, 2057, 1579, 2547, 1887, 2377, 1974, 1669, 2001, 1902, 1719, 1504, 1902, 1977, 1579, 1485, 1977, 1092, 3770, 1977, 1902, 1887, 1590, 1887, 1977, 1672, 1902, 1977, 1408, 1617, 1579, 1887, 1887, 1876, 1564, 2246, 1848, 1974, 1977, 1602, 1651, 1902, 1902, 1848, 1719, 1887, 2001, 1887, 1628, 1977, 1741, 1902, 1590, 1755, 3683, 1887, 1902, 2205, 1902, 1762, 1594, 1977, 1977, 1719, 1977, 1977, 1876, 1651, 1902, 1902, 1887, 2392, 1721, 1887, 1902, 2339, 1974, 1902, 653, 1740, 1887, 1719, 1669, 2824, 1564, 2258, 1977, 1887, 1977, 1602, 1977, 2415, 1977, 1977, 1762, 2444, 1579, 1977, 2002, 1628, 1977, 1902, 1672, 1848, 1887, 1668, 1669, 1902, 2415, 1590, 1719, 1977, 2415, 2415, 2339, 1602, 1902, 1902, 1848, 1762, 1902, 1902, 1902, 1504, 1740, 1651, 1485, 1740, 2129, 2415, 1848, 1876, 1617, 4356, 1902, 625, 1485, 1408, 1408, 1740, 1902, 1485, 1721, 1590, 1669, 1887, 1977, 1980, 1977, 880, 1977, 2415, 1485, 1740, 1876, 1726, 1902, 1672, 1974, 1902, 1902, 1902, 1977, 1876, 1887, 1564, 2174, 880, 1977, 1564, 880, 1672, 2267, 1887, 1887, 1876, 1902, 1721, 1590, 1876, 1887, 1092, 1887, 1564, 1902, 2002, 2080, 1564, 1669, 1876, 1980, 3770, 1672, 1504, 1902, 1980, 1721, 1602, 2415, 1876, 1887, 1977, 1887, 1590, 1980, 2051, 1887, 1887, 1669, 2339, 1974, 1902, 1380, 1848, 1887, 1762, 1977, 1485, 625, 1887, 1974, 1887, 1977, 1902, 1740, 1902, 1504, 2415, 1887, 1887, 1504, 1977, 1902, 1902, 1902, 2559, 1977, 323, 2415, 1590, 1719, 1974, 2001, 2559, 1887, 2457, 213, 2179, 1138, 1504, 1594, 1876, 2246, 1887, 1876, 625, 2444, 1848, 1887, 2267, 1977, 1902, 625, 2258, 1887, 1876, 1672, 1902, 1887, 1719, 2057, 1977, 1977, 1848, 1902, 1669, 2001, 2205, 1564, 1602, 2603, 1848, 2339, 1669, 1762, 1848, 1977, 1977, 1902, 1602, 1887, 1617, 1980, 1573, 1902, 1887, 653, 1902, 1617, 1902, 1902, 1848, 625, 1887, 1602, 1485, 1672, 1887, 1721, 1902, 1902, 1651, 1408, 2001, 2246, 1977, 1848, 1590, 1977, 625, 1977, 1408, 2824, 1590, 1594, 2377, 1564, 1740, 1902, 1485, 1902, 2559, 1762, 1741, 2824, 1848, 1721, 1977, 1974, 1602, 1740, 1887, 1977, 1876, 1876, 2377, 2415, 1887, 1902, 1887, 1651, 1977, 2258, 1887, 1902, 1876, 1408, 2205, 1876, 419, 2051, 2444, 2258, 2179, 1887, 1902, 1590, 2179, 2179, 1887, 2206, 2179, 1977, 1887, 1602, 1485, 1504, 1902, 2001, 1579, 2174, 155, 1902, 1977, 1974, 2002, 625, 3900, 2201, 2001, 1902, 1721, 1887, 1977, 2415, 1876, 1902, 1977, 2051, 2246, 1902, 2042, 2002, 1977, 1902, 1485, 1876, 1672, 2415, 1977, 1340, 1977, 2547, 2042, 1944, 2258, 1887, 1504, 1887, 1876, 1902, 2205, 2001, 1902, 2258, 1980, 2415, 1669, 1887, 2238, 2415, 1902, 1740, 1504, 1602, 1977, 1848, 1590, 1726, 2377, 1669, 2129, 2002, 2415, 1740, 1485, 2001, 1887, 1887, 1741, 1573, 1977, 2415, 1590, 2415, 1977, 1669, 1887, 1740, 1504, 1590, 1902, 1902, 1485, 2339, 1719, 1741, 2258, 1902, 1902, 2415, 1977, 2179, 1977, 2002, 1602, 2415, 1902, 2467, 1887, 1594, 2824, 1887, 1848, 1669, 2057, 1977, 1902, 1887, 3683, 2001, 1590, 1602, 2339, 1980, 1848, 2377, 1887, 1902, 1669, 1977, 1980, 1977, 2377, 1977, 1408, 1579, 1887, 2179, 1848, 1579, 1977, 1887, 1602, 1848, 3900, 2392, 1887, 1740, 2415, 1977, 1977, 1887, 1887, 2002, 1887, 2051, 1887, 1902, 1902, 1902, 1628, 1974, 1573, 2339, 1902, 1902, 2444, 2001, 1902, 1977, 1887, 2392, 1485, 1740, 1902, 1672, 1887, 1902, 2377, 1408, 1980, 1740, 1887, 1617, 2415, 1648, 1628, 1902, 2246, 1876, 1902, 2258, 2051, 1602, 1485, 1902, 1902, 1579, 1848, 1977, 1340, 1564, 1902, 1485, 1977, 1564, 1408, 1669, 1380, 2559, 1902, 1741, 1977, 1672, 1848, 1902, 1628, 1887, 1672, 1980, 1977, 1977, 1740, 2001, 2444, 2258, 1887, 1740, 1651, 1887, 1876, 1902, 2339, 2754, 2415, 1887, 1977, 1977, 1902, 1590, 1977, 2444, 1602, 1485, 1741, 2258, 1485, 1848, 1408, 2559, 1408, 1672, 1602, 1579, 1887, 1887, 1977, 2042, 1977, 1887, 1887, 1617, 1380, 1887, 1485, 1258, 2001, 2002, 1902, 1902, 1902, 1977, 1977, 2824, 1726, 2051, 1977, 2051, 1741, 1590, 1602, 1902, 1848, 2415, 1977, 1887, 1848, 1485, 2603, 1887, 1887, 1741, 1579, 2002, 2547, 2179, 1974, 1579, 2603, 2377, 625, 1740, 1672, 1902, 1602, 1504, 2444, 1721, 1902, 1977, 1590, 2377, 1980, 1651, 1092, 2174, 1887, 1740, 1902, 1977, 1848, 2001, 2206, 1902, 2392, 1887, 1876, 2179, 1977, 1672, 1902, 1902, 1887, 2258, 2377, 1719, 2258, 1977, 1902, 2754, 1887, 1977, 1740, 1092, 1977, 1669, 2377, 1902, 1974, 1887, 1876, 1980, 1902, 2415, 2002, 1977, 1573, 625, 1977, 2258, 1848, 1887, 1848, 1602, 1668, 1590, 1590, 1848, 1740, 1887, 213, 1902, 1740, 1974, 1977, 1602, 2472, 1651, 1740, 1977, 1977, 1504, 1887, 2057, 1887, 1719, 1902, 1887, 2415, 1408, 1755, 1974, 1741, 1887, 1721, 1902, 1602, 1579, 2415, 1887, 2824, 2174, 1887, 1902, 2267, 2002, 1977, 2057, 1887, 1602, 1887, 1380, 2001, 1977, 1719, 1887, 1740, 1825, 2415, 1876, 1719, 1485, 1977, 2415, 1902, 1887, 1825, 1602, 1887, 1902, 2051, 1721, 1340, 1887, 1902, 1721, 1485, 3004, 1902, 1974, 1902, 2051, 1977, 1617, 1848, 1740, 1887, 1887, 1974, 2051, 1902, 1887, 2444, 1741, 1590, 1594, 1902, 1848, 1977, 1092, 1887, 1887, 1977, 1564, 1902, 1848, 1902, 1669, 1887, 1485, 1672, 1902, 2051, 1887, 1564, 1740, 1977, 1340, 1628, 1887, 1902, 1887, 1741, 2377, 1579, 1902, 1719, 2415, 1887, 1740, 1902, 1741, 2339, 1848, 1902, 1887, 1902, 323, 2415, 1887, 1485, 1485, 1848, 2258, 1887, 1741, 2051, 1762, 1672, 1887, 1977, 2258, 2444, 1408, 1602, 1902, 1672, 1902, 2415, 2042, 1887, 1902, 2042, 1411, 2559, 1741, 1887, 1902, 1887, 1602, 1669, 1977, 880, 2042, 1408, 1902, 1902, 1887, 1719, 1762, 1564, 2179, 1816, 1980, 1977, 1876, 1340, 2206, 1741, 1977, 1485, 1887, 1564, 2339, 2415, 2179, 1977, 1408, 1980]\n",
      "feature : hoursperweek\n",
      "data range 32.5 to 52.5\n",
      "Outliers at left side  [28, 20, 16, 24, 6, 30, 20, 20, 20, 25, 20, 8, 20, 9, 30, 8, 32, 12, 24, 28, 21, 20, 32, 20, 20, 24, 26, 14, 15, 20, 32, 25, 10, 16, 5, 30, 20, 20, 20, 30, 25, 15, 20, 24, 15, 20, 25, 20, 20, 18, 30, 32, 24, 30, 20, 30, 20, 20, 30, 20, 24, 25, 6, 20, 18, 20, 15, 28, 25, 7, 30, 28, 20, 15, 10, 30, 30, 20, 25, 25, 30, 20, 20, 20, 20, 30, 16, 25, 32, 30, 20, 30, 32, 20, 15, 20, 28, 20, 25, 25, 25, 20, 30, 28, 20, 30, 30, 30, 25, 20, 16, 30, 24, 30, 25, 12, 20, 7, 10, 30, 30, 24, 20, 16, 16, 24, 30, 5, 30, 25, 20, 5, 11, 24, 25, 25, 14, 30, 9, 15, 12, 30, 30, 24, 30, 8, 6, 30, 20, 16, 10, 20, 30, 30, 24, 10, 20, 20, 30, 16, 18, 20, 12, 20, 15, 15, 30, 16, 32, 30, 10, 20, 20, 10, 30, 10, 24, 30, 8, 24, 20, 25, 10, 15, 16, 18, 25, 25, 6, 20, 30, 20, 30, 20, 10, 16, 10, 20, 20, 30, 30, 16, 10, 30, 16, 25, 28, 17, 15, 30, 5, 30, 18, 12, 30, 22, 18, 25, 21, 10, 10, 20, 25, 24, 15, 20, 20, 20, 25, 25, 30, 10, 30, 30, 25, 25, 30, 25, 24, 20, 3, 25, 25, 30, 20, 30, 10, 20, 25, 6, 30, 25, 25, 8, 21, 15, 20, 20, 30, 13, 25, 20, 24, 27, 25, 30, 20, 20, 15, 25, 24, 25, 28, 15, 5, 15, 20, 25, 30, 20, 20, 30, 32, 10, 11, 30, 30, 18, 30, 25, 20, 10, 30, 30, 20, 20, 24, 30, 30, 15, 20, 30, 25, 30, 10, 16, 27, 30, 5, 8, 30, 25, 20, 16, 30, 20, 30, 30, 30, 25, 30, 32, 30, 25, 32, 6, 9, 30, 30, 20, 15, 30, 15, 30, 10, 25, 20, 20, 30, 30, 15, 25, 30, 30, 18, 17, 20, 10, 25, 20, 25, 28, 3, 30, 30, 16, 26, 20, 32, 25, 30, 30, 25, 32, 20, 15, 32, 25, 20, 20, 20, 30, 16, 15, 20, 24, 25, 20, 16, 16, 32, 20, 32, 32, 30, 20, 25, 20, 16, 20, 15, 27, 27, 20, 12, 32, 30, 30, 20, 30, 30, 5, 30, 20, 20, 22, 5, 28, 30, 30, 30, 30, 30, 20, 30, 30, 30, 20, 20, 32, 20, 10, 30, 18, 10, 20, 16, 24, 24, 30, 30, 31, 25, 24, 20, 20, 30, 14, 30, 20, 10, 30, 21, 24, 20, 30, 25, 15, 30, 15, 12, 15, 20, 20, 22, 20, 16, 24, 20, 30, 20, 15, 20, 12, 28, 20, 20, 20, 30, 20, 10, 25, 10, 10, 5, 30, 20, 25, 25, 30, 3, 30, 24, 25, 16, 20, 30, 20, 15, 25, 20, 27, 16, 30, 12, 20, 10, 20, 20, 20, 20, 12, 25, 28, 30, 10, 18, 32, 30, 30, 30, 20, 24, 25, 12, 30, 30, 26, 30, 30, 24, 16, 3, 27, 21, 30, 10, 25, 16, 24, 20, 30, 12, 15, 30, 8, 10, 15, 30, 12, 20, 15, 15, 20, 13, 30, 25, 24, 28, 12, 10, 8, 20, 16, 20, 20, 20, 30, 9, 32, 20, 32, 24, 20, 20, 30, 30, 20, 8, 24, 15, 25, 20, 8, 20, 20, 16, 10, 30, 13, 30, 25, 15, 30, 30, 24, 30, 25, 10, 30, 15, 20, 32, 16, 10, 25, 20, 18, 24, 30, 30, 20, 30, 30, 30, 30, 20, 26, 15, 16, 20, 25, 20, 12, 30, 20, 20, 25, 12, 20, 20, 15, 30, 12, 20, 32, 10, 8, 25, 20, 20, 30, 30, 25, 30, 24, 30, 30, 20, 20, 20, 12, 21, 25, 10, 25, 28, 30, 30, 20, 30, 32, 25, 16, 12, 25, 10, 25, 20, 18, 32, 25, 10, 16, 25, 12, 30, 30, 30, 20, 30, 30, 20, 3, 24, 25, 25, 25, 20, 30, 15, 27, 32, 16, 30, 20, 30, 30, 12, 10, 25, 32, 30, 22, 20, 15, 20, 20, 10, 18, 20, 12, 16, 30, 24, 6, 8, 24, 11, 25, 30, 20, 30, 20, 20, 15, 30, 20, 24, 25, 16, 30, 32, 16, 30, 20, 20, 16, 24, 25, 7, 30, 30, 20, 30, 5, 24, 32, 8, 30, 30, 10, 18, 23, 30, 24, 30, 32, 20, 24, 32, 2, 9, 30, 15, 20, 20, 24, 25, 10, 30, 4, 30, 20, 30, 20, 30, 25, 20, 20, 30, 28, 23, 12, 25, 15, 20, 8, 25, 30, 25, 24, 20, 25, 30, 16, 20, 30, 16, 8, 8, 17, 32, 25, 18, 24, 25, 10, 24, 30, 24, 32, 30, 20, 17, 20, 20, 10, 30, 13, 10, 20, 15, 30, 20, 30, 25, 25, 20, 6, 30, 25, 10, 30, 25, 15, 18, 25, 32, 20, 30, 16, 25, 14, 14, 25, 20, 20, 20, 16, 25, 25, 24, 15, 20, 10, 10, 13, 20, 7, 25, 5, 26, 20, 12, 30, 2, 8, 12, 24, 20, 18, 10, 32, 32, 20, 25, 32, 30, 30, 25, 30, 30, 10, 20, 15, 12, 21, 24, 20, 20, 32, 25, 20, 30, 25, 30, 20, 25, 20, 6, 10, 25, 15, 30, 32, 25, 30, 32, 10, 8, 15, 30, 20, 30, 32, 30, 20, 20, 20, 30, 30, 20, 32, 30, 30, 8, 20, 15, 20, 30, 25, 30, 15, 24, 12, 10, 32, 25, 24, 25, 30, 22, 20, 30, 25, 23, 15, 10, 20, 30, 30, 30, 20, 30, 8, 20, 20, 25, 15, 25, 32, 20, 27, 8, 25, 20, 30, 20, 30, 15, 25, 25, 20, 30, 24, 15, 32, 20, 28, 20, 10, 10, 25, 15, 30, 24, 12, 25, 25, 25, 24, 20, 24, 21, 24, 30, 8, 30, 8, 16, 30, 20, 8, 15, 20, 20, 30, 30, 12, 30, 16, 20, 10, 22, 30, 26, 20, 16, 32, 10, 32, 30, 20, 20, 30, 32, 20, 15, 30, 20, 32, 32, 24, 26, 24, 24, 15, 20, 30, 18, 28, 10, 4, 30, 30, 30, 15, 16, 32, 20, 24, 18, 24, 25, 20, 8, 20, 10, 15, 32, 8, 20, 30, 20, 12, 18, 4, 20, 30, 15, 30, 20, 28, 25, 30, 30, 30, 30, 20, 28, 30, 30, 18, 24, 16, 2, 32, 20, 10, 12, 20, 30, 10, 30, 15, 22, 9, 32, 32, 24, 6, 16, 20, 30, 30, 10, 25, 30, 20, 30, 15, 21, 10, 5, 30, 32, 25, 15, 20, 30, 20, 15, 25, 20, 16, 27, 30, 31, 32, 16, 12, 19, 30, 20, 30, 16, 30, 6, 15, 10, 11, 20, 20, 25, 28, 20, 30, 30, 20, 10, 30, 30, 30, 25, 15, 20, 25, 18, 20, 30, 30, 25, 22, 32, 8, 20, 24, 20, 10, 30, 20, 26, 30, 20, 30, 15, 6, 30, 24, 30, 15, 18, 16, 25, 20, 12, 10, 28, 32, 24, 8, 20, 30, 3, 25, 30, 12, 30, 10, 14, 15, 20, 20, 25, 19, 25, 16, 32, 30, 20, 32, 30, 10, 30, 24, 8, 25, 20, 15, 12, 20, 25, 17, 30, 25, 30, 30, 30, 30, 32, 25, 32, 26, 12, 28, 30, 29, 30, 20, 30, 25, 20, 25, 30, 8, 20, 10, 12, 30, 25, 30, 20, 8, 20, 20, 24, 15, 29, 20, 25, 32, 21, 30, 6, 25, 25, 4, 27, 30, 30, 28, 30, 32, 15, 25, 24, 24, 24, 16, 16, 10, 17, 20, 24, 20, 25, 15, 8, 19, 25, 30, 25, 28, 25, 25, 24, 12, 30, 15, 20, 32, 20, 20, 21, 30, 30, 30, 20, 20, 25, 30, 9, 15, 30, 30, 30, 25, 32, 17, 20, 19, 26, 30, 32, 32, 20, 20, 18, 26, 25, 20, 7, 30, 6, 15, 30, 25, 25, 30, 20, 14, 20, 30, 30, 26, 15, 25, 30, 20, 4, 20, 16, 30, 20, 30, 20, 24, 30, 24, 12, 25, 20, 8, 15, 25, 20, 15, 24, 20, 20, 20, 25, 20, 25, 24, 20, 25, 20, 30, 25, 25, 6, 24, 15, 16, 25, 14, 4, 25, 16, 15, 20, 30, 25, 20, 20, 20, 20, 30, 30, 20, 25, 10, 20, 25, 25, 28, 20, 15, 2, 30, 20, 24, 20, 30, 3, 25, 20, 25, 30, 25, 25, 25, 30, 24, 25, 25, 4, 30, 20, 8, 20, 21, 20, 15, 20, 25, 20, 30, 10, 10, 30, 30, 25, 25, 25, 32, 24, 10, 20, 20, 15, 10, 20, 20, 30, 15, 20, 30, 30, 20, 20, 15, 8, 9, 30, 20, 20, 30, 30, 24, 25, 16, 16, 30, 32, 20, 30, 19, 6, 20, 15, 20, 30, 15, 18, 30, 1, 25, 16, 27, 20, 10, 25, 6, 30, 24, 20, 30, 30, 20, 20, 20, 25, 15, 20, 25, 12, 20, 22, 32, 30, 20, 32, 8, 16, 20, 6, 26, 25, 24, 20, 30, 20, 30, 30, 12, 20, 25, 15, 30, 2, 30, 32, 7, 20, 30, 20, 20, 30, 32, 20, 20, 30, 30, 15, 20, 20, 30, 20, 22, 8, 20, 12, 30, 30, 15, 30, 30, 30, 20, 20, 26, 30, 30, 20, 25, 12, 30, 20, 25, 15, 12, 25, 5, 20, 30, 25, 12, 30, 30, 30, 30, 10, 8, 20, 20, 20, 15, 10, 30, 25, 32, 10, 30, 16, 8, 30, 20, 30, 24, 25, 25, 20, 25, 25, 30, 17, 28, 28, 32, 20, 20, 16, 30, 32, 5, 23, 16, 20, 20, 30, 30, 30, 30, 32, 20, 25, 10, 30, 30, 20, 25, 15, 30, 30, 25, 20, 30, 24, 24, 30, 30, 21, 18, 20, 25, 25, 20, 25, 30, 15, 24, 12, 32, 30, 20, 6, 30, 7, 24, 25, 14, 30, 16, 32, 24, 20, 25, 24, 8, 25, 28, 28, 3, 20, 25, 24, 10, 25, 32, 30, 25, 30, 10, 30, 15, 25, 7, 20, 20, 20, 25, 28, 24, 23, 20, 25, 9, 25, 26, 20, 30, 20, 20, 20, 32, 27, 30, 25, 28, 21, 30, 25, 25, 10, 30, 4, 15, 21, 15, 30, 25, 30, 20, 25, 30, 12, 23, 20, 25, 20, 30, 25, 24, 20, 20, 30, 20, 25, 20, 32, 20, 20, 20, 16, 20, 18, 20, 24, 32, 15, 20, 20, 23, 12, 30, 12, 10, 20, 24, 10, 17, 26, 6, 3, 25, 30, 30, 20, 15, 10, 8, 20, 25, 25, 25, 15, 15, 20, 30, 12, 5, 20, 10, 25, 16, 12, 8, 25, 24, 20, 20, 20, 24, 25, 30, 20, 26, 3, 25, 25, 22, 30, 15, 12, 25, 30, 15, 30, 30, 13, 2, 30, 17, 28, 30, 28, 13, 24, 25, 6, 10, 22, 20, 30, 25, 10, 28, 30, 15, 8, 12, 30, 20, 15, 32, 24, 13, 30, 10, 20, 20, 20, 20, 32, 20, 20, 30, 25, 30, 20, 12, 16, 30, 18, 30, 25, 25, 15, 30, 20, 25, 20, 20, 16, 20, 20, 25, 20, 20, 27, 30, 26, 30, 30, 9, 23, 20, 10, 16, 25, 30, 32, 10, 20, 17, 30, 30, 20, 20, 30, 24, 30, 20, 32, 15, 16, 4, 30, 20, 10, 24, 20, 20, 11, 16, 30, 6, 20, 25, 6, 25, 20, 20, 2, 8, 25, 25, 25, 24, 20, 14, 20, 27, 25, 30, 25, 32, 5, 20, 18, 32, 28, 15, 20, 8, 28, 15, 12, 30, 30, 15, 6, 32, 20, 28, 30, 25, 15, 20, 25, 17, 30, 20, 32, 20, 19, 20, 15, 32, 12, 32, 25, 15, 20, 20, 20, 16, 16, 20, 30, 32, 30, 25, 30, 32, 14, 15, 30, 30, 30, 18, 30, 20, 20, 25, 24, 20, 24, 25, 30, 25, 20, 24, 20, 20, 8, 15, 20, 11, 20, 20, 30, 20, 25, 30, 22, 27, 18, 18, 16, 30, 12, 3, 30, 15, 24, 20, 15, 16, 16, 24, 20, 20, 30, 20, 25, 15, 30, 25, 30, 32, 20, 20, 32, 20, 18, 32, 30, 20, 30, 4, 20, 30, 20, 28, 13, 10, 8, 24, 20, 14, 20, 20, 18, 30, 24, 25, 30, 25, 25, 10, 32, 25, 15, 24, 12, 27, 32, 23, 30, 21, 20, 30, 10, 28, 25, 25, 25, 20, 15, 20, 30, 27, 25, 20, 24, 30, 8, 30, 15, 30, 15, 20, 25, 32, 16, 30, 5, 20, 16, 22, 30, 16, 8, 20, 30, 20, 32, 20, 32, 20, 25, 6, 20, 3, 20, 32, 30, 32, 30, 15, 20, 15, 30, 20, 15, 10, 15, 25, 30, 16, 21, 30, 12, 20, 8, 25, 26, 20, 10, 8, 15, 20, 7, 24, 27, 15, 30, 30, 20, 30, 32, 15, 25, 30, 25, 15, 20, 20, 15, 30, 25, 19, 10, 8, 16, 32, 30, 30, 24, 30, 20, 8, 24, 15, 25, 20, 20, 15, 20, 20, 10, 6, 25, 22, 25, 20, 30, 24, 30, 20, 32, 20, 15, 30, 30, 32, 15, 8, 20, 18, 30, 30, 15, 15, 30, 25, 22, 25, 16, 15, 25, 25, 15, 20, 26, 25, 25, 10, 28, 15, 15, 9, 20, 20, 8, 20, 13, 30, 20, 8, 30, 30, 32, 25, 20, 30, 20, 20, 20, 32, 15, 30, 25, 20, 29, 30, 15, 30, 10, 20, 25, 10, 30, 30, 20, 10, 12, 20, 25, 25, 30, 16, 30, 24, 15, 14, 7, 7, 16, 15, 30, 12, 30, 4, 20, 16, 4, 7, 30, 28, 10, 21, 20, 25, 16, 12, 30, 23, 8, 20, 25, 30, 16, 24, 20, 20, 14, 25, 30, 20, 8, 20, 20, 30, 5, 2, 30, 15, 15, 20, 26, 30, 30, 20, 25, 32, 15, 15, 25, 30, 24, 14, 16, 25, 20, 25, 29, 8, 20, 15, 32, 12, 8, 24, 20, 30, 16, 16, 20, 18, 30, 16, 32, 20, 17, 18, 30, 25, 20, 16, 30, 18, 15, 26, 15, 20, 30, 25, 30, 20, 32, 15, 17, 12, 30, 20, 30, 28, 30, 32, 30, 20, 20, 20, 30, 20, 30, 25, 25, 30, 20, 32, 20, 24, 25, 20, 27, 15, 30, 30, 20, 20, 15, 20, 20, 24, 25, 30, 10, 30, 24, 25, 13, 25, 14, 30, 10, 10, 20, 20, 30, 30, 25, 32, 9, 20, 30, 30, 30, 20, 20, 15, 20, 30, 25, 25, 32, 20, 30, 25, 30, 25, 4, 25, 32, 20, 8, 25, 6, 30, 15, 30, 15, 16, 25, 30, 20, 30, 15, 30, 30, 25, 4, 30, 20, 32, 20, 32, 30, 20, 20, 10, 32, 10, 25, 25, 18, 32, 13, 25, 24, 20, 15, 3, 30, 20, 30, 25, 20, 30, 10, 21, 20, 20, 5, 10, 8, 25, 20, 24, 15, 25, 30, 8, 30, 25, 7, 20, 30, 12, 25, 20, 28, 20, 16, 18, 15, 24, 15, 15, 18, 20, 25, 15, 15, 16, 15, 24, 25, 32, 15, 32, 30, 32, 18, 30, 8, 20, 10, 20, 28, 30, 30, 3, 25, 20, 30, 2, 25, 15, 24, 15, 30, 22, 20, 30, 24, 15, 2, 10, 12, 30, 10, 25, 30, 20, 30, 30, 28, 12, 24, 30, 32, 32, 30, 20, 25, 5, 25, 25, 30, 32, 20, 30, 32, 30, 16, 24, 20, 12, 30, 32, 25, 8, 20, 15, 25, 20, 10, 30, 20, 25, 10, 12, 1, 30, 20, 10, 15, 3, 25, 30, 30, 30, 30, 30, 30, 24, 30, 15, 10, 20, 24, 25, 30, 7, 25, 25, 30, 10, 25, 16, 30, 5, 20, 20, 20, 30, 25, 30, 15, 20, 28, 24, 16, 12, 20, 10, 30, 25, 18, 6, 15, 28, 30, 25, 25, 15, 24, 25, 30, 25, 20, 25, 32, 8, 24, 20, 32, 13, 30, 8, 30, 16, 16, 25, 15, 28, 8, 30, 30, 30, 30, 32, 20, 20, 20, 30, 24, 25, 30, 20, 20, 25, 10, 20, 10, 14, 20, 16, 25, 20, 30, 32, 25, 15, 15, 30, 21, 20, 20, 25, 30, 14, 19, 10, 30, 15, 13, 25, 17, 8, 30, 30, 20, 10, 20, 15, 15, 14, 24, 20, 20, 20, 30, 24, 20, 12, 20, 24, 24, 30, 15, 28, 10, 1, 20, 30, 10, 24, 20, 15, 30, 32, 32, 30, 30, 20, 10, 24, 15, 5, 22, 20, 30, 14, 24, 30, 20, 15, 16, 20, 25, 30, 15, 32, 30, 24, 25, 17, 12, 32, 28, 16, 10, 14, 16, 30, 27, 20, 10, 25, 12, 6, 16, 20, 23, 20, 30, 15, 32, 25, 3, 15, 20, 30, 25, 25, 15, 30, 10, 28, 20, 20, 24, 20, 32, 25, 10, 30, 26, 25, 20, 20, 25, 25, 10, 20, 32, 20, 24, 30, 20, 17, 20, 20, 20, 17, 15, 22, 7, 30, 20, 30, 20, 19, 28, 12, 12, 12, 32, 14, 10, 24, 30, 30, 25, 30, 20, 20, 15, 30, 22, 30, 28, 20, 30, 25, 18, 32, 16, 30, 20, 25, 20, 5, 27, 20, 30, 15, 30, 30, 30, 28, 20, 20, 21, 20, 27, 20, 25, 25, 18, 24, 15, 25, 28, 30, 10, 24, 25, 30, 10, 30, 12, 15, 23, 12, 26, 20, 6, 15, 10, 30, 20, 15, 32, 30, 30, 32, 30, 30, 30, 30, 25, 25, 16, 24, 20, 10, 22, 27, 32, 24, 20, 32, 20, 27, 30, 16, 15, 30, 13, 20, 32, 22, 20, 9, 30, 22, 15, 25, 25, 24, 4, 30, 32, 16, 20, 30, 16, 10, 30, 16, 20, 30, 32, 10, 32, 20, 20, 21, 30, 15, 15, 10, 10, 15, 16, 4, 15, 20, 8, 20, 22, 25, 30, 20, 10, 20, 10, 20, 30, 12, 20, 15, 15, 25, 20, 14, 30, 15, 30, 15, 10, 20, 20, 4, 1, 20, 30, 20, 10, 12, 28, 32, 30, 4, 30, 20, 24, 12, 32, 12, 20, 24, 27, 25, 12, 15, 10, 10, 16, 20, 32, 30, 28, 32, 3, 12, 24, 30, 20, 12, 2, 20, 30, 25, 32, 20, 28, 25, 20, 30, 25, 8, 25, 32, 23, 15, 30, 30, 30, 30, 30, 10, 30, 25, 20, 15, 32, 15, 25, 20, 32, 20, 30, 30, 16, 32, 6, 25, 30, 30, 10, 15, 16, 25, 30, 24, 15, 20, 32, 10, 15, 25, 30, 30, 20, 25, 25, 20, 30, 20, 15, 12, 20, 20, 30, 20, 30, 20, 30, 30, 20, 25, 16, 30, 30, 22, 12, 15, 10, 32, 10, 20, 20, 20, 30, 9, 20, 24, 18, 32, 30, 28, 16, 25, 32, 20, 30, 28, 24, 22, 18, 12, 30, 20, 20, 30, 30, 30, 10, 30, 24, 20, 30, 10, 20, 15, 8, 20, 15, 12, 8, 12, 26, 30, 25, 32, 1, 16, 30, 20, 20, 25, 7, 21, 24, 10, 20, 20, 30, 19, 20, 16, 20, 30, 17, 24, 20, 22, 32, 15, 25, 25, 20, 10, 30, 20, 8, 25, 30, 24, 15, 20, 30, 20, 15, 25, 32, 25, 15, 24, 25, 20, 30, 25, 20, 30, 30, 25, 20, 24, 20, 10, 18, 25, 24, 30, 30, 30, 16, 20, 10, 28, 15, 30, 18, 10, 12, 30, 20, 23, 18, 18, 20, 20, 16, 16, 25, 16, 25, 20, 32, 20, 20, 20, 17, 20, 30, 20, 20, 1, 25, 20, 30, 12, 15, 16, 15, 20, 20, 16, 25, 20, 15, 30, 30, 32, 30, 30, 6, 24, 20, 30, 28, 10, 20, 20, 10, 20, 9, 20, 30, 10, 30, 25, 30, 20, 30, 13, 15, 25, 32, 30, 24, 25, 30, 25, 12, 32, 20, 15, 25, 23, 25, 8, 32, 15, 30, 25, 24, 30, 30, 25, 24, 15, 30, 10, 10, 30, 12, 20, 24, 30, 30, 25, 25, 32, 25, 25, 25, 8, 14, 32, 20, 16, 32, 20, 30, 30, 25, 25, 6, 24, 20, 25, 15, 24, 30, 30, 20, 30, 32, 10, 30, 25, 16, 8, 20, 8, 30, 15, 31, 30, 20, 24, 16, 30, 25, 30, 23, 30, 20, 15, 30, 30, 25, 24, 10, 30, 30, 25, 30, 20, 28, 15, 15, 25, 30, 16, 32, 30, 10, 30, 20, 19, 18, 32, 22, 15, 12, 15, 25, 30, 20, 20, 5, 15, 12, 20, 32, 30, 20, 16, 15, 32, 20, 30, 20, 30, 30, 20, 30, 25, 30, 32, 30, 24, 6, 30, 30, 15, 4, 20, 12, 32, 32, 20, 20, 32, 22, 8, 16, 20, 10, 10, 25, 30, 20, 20, 4, 20, 30, 20, 12, 20, 16, 8, 20, 16, 8, 30, 20, 25, 8, 25, 30, 5, 32, 14, 32, 20, 8, 31, 30, 15, 30, 10, 30, 17, 32, 20, 20, 30, 25, 25, 30, 20, 30, 30, 10, 30, 25, 30, 32, 18, 10, 24, 15, 20, 30, 32, 20, 25, 32, 30, 12, 20, 15, 30, 25, 20, 20, 25, 19, 24, 30, 8, 12, 7, 15, 12, 16, 20, 5, 30, 22, 23, 30, 20, 12, 20, 15, 30, 25, 30, 30, 12, 10, 25, 27, 16, 25, 13, 18, 32, 25, 19, 20, 4, 25, 30, 30, 20, 20, 30, 32, 20, 30, 20, 24, 29, 3, 32, 30, 25, 30, 20, 16, 30, 30, 10, 25, 20, 20, 25, 15, 20, 30, 4, 20, 15, 30, 15, 30, 10, 20, 17, 26, 20, 20, 20, 32, 18, 25, 25, 25, 12, 12, 32, 15, 30, 30, 20, 6, 20, 30, 14, 30, 20, 25, 30, 24, 15, 32, 20, 10, 23, 20, 30, 12, 30, 5, 20, 16, 30, 15, 30, 6, 30, 24, 25, 30, 15, 24, 10, 24, 20, 32, 20, 30, 20, 5, 30, 25, 8, 16, 16, 25, 25, 16, 8, 20, 10, 20, 15, 6, 15, 30, 30, 25, 15, 30, 8, 25, 16, 22, 24, 10, 32, 30, 6, 16, 32, 20, 30, 30, 30, 30, 22, 30, 22, 15, 5, 24, 30, 12, 24, 30, 15, 15, 25, 20, 12, 20, 8, 30, 15, 16, 32, 32, 30, 5, 22, 25, 14, 25, 25, 25, 30, 20, 20, 25, 30, 30, 16, 30, 30, 16, 10, 30, 25, 30, 32, 15, 28, 20, 4, 16, 25, 15, 20, 16, 8, 20, 12, 15, 12, 30, 30, 8, 32, 30, 16, 20, 16, 30, 20, 25, 5, 30, 20, 20, 11, 25, 30, 25, 32, 25, 18, 25, 30, 20, 20, 15, 32, 12, 30, 25, 15, 15, 25, 32, 20, 20, 20, 25, 4, 10, 20, 32, 25, 10, 3, 32, 15, 24, 25, 16, 20, 20, 24, 15, 30, 24, 32, 30, 20, 30, 12, 24, 6, 20, 30, 20, 10, 32, 16, 15, 16, 20, 25, 30, 30, 10, 30, 30, 20, 30, 32, 20, 20, 20, 16, 2, 30, 17, 30, 30, 25, 15, 30, 10, 10, 24, 20, 30, 14, 30, 20, 3, 23, 32, 30, 10, 30, 2, 12, 30, 20, 22, 32, 20, 25, 24, 18, 30, 30, 18, 20, 18, 20, 20, 25, 20, 30, 30, 30, 10, 5, 25, 25, 25, 12, 24, 2, 30, 20, 20, 12, 25, 4, 25, 17, 8, 15, 11, 30, 10, 30, 25, 20, 25, 20, 22, 20, 30, 30, 26, 12, 18, 4, 25, 20, 32, 25, 20, 30, 30, 20, 15, 30, 30, 25, 30, 10, 30, 32, 12, 15, 30, 32, 25, 20, 30, 30, 20, 30, 30, 30, 30, 20, 30, 10, 15, 32, 30, 30, 30, 25, 18, 30, 30, 30, 30, 20, 20, 25, 28, 30, 25, 25, 30, 8, 25, 20, 25, 24, 25, 25, 30, 20, 30, 24, 30, 20, 20, 30, 30, 9, 20, 25, 7, 30, 20, 18, 17, 30, 20, 30, 16, 27, 8, 32, 30, 30, 12, 25, 20, 25, 20, 20, 25, 8, 25, 24, 5, 20, 15, 5, 20, 10, 30, 8, 28, 20, 25, 25, 25, 20, 25, 15, 20, 20, 25, 32, 16, 8, 20, 30, 25, 27, 16, 20, 15, 32, 15, 3, 30, 20, 30, 30, 17, 25, 20, 20, 16, 20, 30, 25, 32, 25, 20, 10, 20, 30, 32, 4, 30, 30, 20, 9, 26, 20, 30, 16, 22, 25, 24, 32, 20, 25, 30, 12, 24, 32, 30, 10, 30, 17, 30, 25, 25, 30, 23, 30, 24, 3, 20, 30, 3, 10, 30, 20, 16, 30, 25, 15, 24, 24, 20, 25, 30, 30, 15, 30, 32, 15, 24, 30, 30, 20, 30, 20, 25, 20, 5, 28, 25, 30, 20, 5, 30, 30, 30, 30, 16, 15, 10, 30, 30, 10, 32, 20, 15, 24, 5, 25, 25, 10, 20, 8, 12, 30, 12, 20, 20, 20, 15, 20, 20, 10, 20, 30, 31, 16, 30, 32, 20, 25, 10, 20, 30, 8, 8, 12, 20, 20, 15, 20, 32, 30, 25, 32, 30, 32, 20, 20, 20, 32, 30, 3, 32, 32, 25, 25, 20, 28, 22, 24, 15, 30, 20, 11, 13, 16, 20, 15, 25, 32, 20, 22, 25, 25, 28, 30, 30, 24, 24, 2, 16, 20, 25, 12, 1, 28, 24, 12, 20, 20, 20, 30, 20, 30, 24, 15, 16, 25, 15, 24, 10, 30, 20, 25, 25, 30, 24, 15, 15, 10, 10, 30, 25, 6, 25, 24, 19, 30, 18, 25]\n"
     ]
    }
   ],
   "source": [
    "col=['age', 'capitalgain', 'capitalloss','hoursperweek' ]\n",
    "for i in col:\n",
    "    print(\"feature :\", i  )\n",
    "    outlier(Df[i])\n",
    "    "
   ]
  },
  {
   "cell_type": "markdown",
   "metadata": {},
   "source": [
    "# Imputation of Outliers "
   ]
  },
  {
   "cell_type": "code",
   "execution_count": 92,
   "metadata": {},
   "outputs": [],
   "source": [
    "# Replacing the outliers with median\n",
    "Df['age']=Df['age'].mask(Df['age']>76.5,Df['age'].median())"
   ]
  },
  {
   "cell_type": "code",
   "execution_count": 93,
   "metadata": {},
   "outputs": [],
   "source": [
    "# Replacing the outliers with median\n",
    "Df['hoursperweek']=Df['hoursperweek'].mask(Df['hoursperweek']>52.5,Df['hoursperweek'].median())\n",
    "Df['hoursperweek']=Df['hoursperweek'].mask(Df['hoursperweek']<32.5,Df['hoursperweek'].median())\n"
   ]
  },
  {
   "cell_type": "code",
   "execution_count": 94,
   "metadata": {},
   "outputs": [
    {
     "data": {
      "text/plain": [
       "5874     41310\n",
       "19384    41310\n",
       "789      99999\n",
       "20673    99999\n",
       "21170    99999\n",
       "         ...  \n",
       "10332    99999\n",
       "10334    99999\n",
       "10847    99999\n",
       "11417    99999\n",
       "31504    99999\n",
       "Name: capitalgain, Length: 149, dtype: int64"
      ]
     },
     "execution_count": 94,
     "metadata": {},
     "output_type": "execute_result"
    }
   ],
   "source": [
    "#Replacing outliers for 'capital_gain'\n",
    "# Finding nearest values to 40000 mark\n",
    "Df['capitalgain'][Df['capitalgain']>40000].sort_values()"
   ]
  },
  {
   "cell_type": "code",
   "execution_count": 95,
   "metadata": {},
   "outputs": [],
   "source": [
    "# Replacing outliers with nearest possibe value\n",
    "Df['capitalgain'][Df['capitalgain']>40000] = 41310"
   ]
  },
  {
   "cell_type": "code",
   "execution_count": 96,
   "metadata": {},
   "outputs": [
    {
     "data": {
      "text/plain": [
       "14057    4356\n",
       "22942    3900\n",
       "19620    3900\n",
       "15221    3770\n",
       "11260    3770\n",
       "         ... \n",
       "15062    1092\n",
       "11168    1092\n",
       "9159     1092\n",
       "29998    1092\n",
       "26825    1092\n",
       "Name: capitalloss, Length: 1385, dtype: int64"
      ]
     },
     "execution_count": 96,
     "metadata": {},
     "output_type": "execute_result"
    }
   ],
   "source": [
    "# Finding nearest values to 1000 mark\n",
    "Df['capitalloss'][Df['capitalloss']>1000].sort_values(ascending=False)"
   ]
  },
  {
   "cell_type": "code",
   "execution_count": 97,
   "metadata": {},
   "outputs": [],
   "source": [
    "# Replacing outliers with nearest possibe value\n",
    "Df['capitalloss'][Df['capitalloss']>1000] = 974"
   ]
  },
  {
   "cell_type": "markdown",
   "metadata": {},
   "source": [
    "# Outliers after treatment"
   ]
  },
  {
   "cell_type": "code",
   "execution_count": 98,
   "metadata": {},
   "outputs": [
    {
     "name": "stdout",
     "output_type": "stream",
     "text": [
      "Boxplot for feature : age\n"
     ]
    },
    {
     "data": {
      "image/png": "[encoded data removed]",
      "text/plain": [
       "<Figure size 432x288 with 1 Axes>"
      ]
     },
     "metadata": {
      "needs_background": "light"
     },
     "output_type": "display_data"
    },
    {
     "name": "stdout",
     "output_type": "stream",
     "text": [
      "Boxplot for feature : capitalgain\n"
     ]
    },
    {
     "data": {
      "image/png": "[encoded data removed]",
      "text/plain": [
       "<Figure size 432x288 with 1 Axes>"
      ]
     },
     "metadata": {
      "needs_background": "light"
     },
     "output_type": "display_data"
    },
    {
     "name": "stdout",
     "output_type": "stream",
     "text": [
      "Boxplot for feature : capitalloss\n"
     ]
    },
    {
     "data": {
      "image/png": "[encoded data removed]",
      "text/plain": [
       "<Figure size 432x288 with 1 Axes>"
      ]
     },
     "metadata": {
      "needs_background": "light"
     },
     "output_type": "display_data"
    },
    {
     "name": "stdout",
     "output_type": "stream",
     "text": [
      "Boxplot for feature : hoursperweek\n"
     ]
    },
    {
     "data": {
      "image/png": "[encoded data removed]",
      "text/plain": [
       "<Figure size 432x288 with 1 Axes>"
      ]
     },
     "metadata": {
      "needs_background": "light"
     },
     "output_type": "display_data"
    }
   ],
   "source": [
    "col=['age', 'capitalgain', 'capitalloss','hoursperweek' ]\n",
    "for i in col:\n",
    "    print(\"Boxplot for feature :\", i  )\n",
    "    sns.boxplot(x=Df['SalStat'],y=Df[i])\n",
    "    plt.show()"
   ]
  },
  {
   "cell_type": "code",
   "execution_count": 99,
   "metadata": {},
   "outputs": [
    {
     "name": "stdout",
     "output_type": "stream",
     "text": [
      "Numerical feature: age\n"
     ]
    },
    {
     "data": {
      "image/png": "[encoded data removed]",
      "text/plain": [
       "<Figure size 720x360 with 1 Axes>"
      ]
     },
     "metadata": {
      "needs_background": "light"
     },
     "output_type": "display_data"
    },
    {
     "name": "stdout",
     "output_type": "stream",
     "text": [
      "Numerical feature: capitalgain\n"
     ]
    },
    {
     "data": {
      "image/png": "[encoded data removed]",
      "text/plain": [
       "<Figure size 720x360 with 1 Axes>"
      ]
     },
     "metadata": {
      "needs_background": "light"
     },
     "output_type": "display_data"
    },
    {
     "name": "stdout",
     "output_type": "stream",
     "text": [
      "Numerical feature: capitalloss\n"
     ]
    },
    {
     "data": {
      "image/png": "[encoded data removed]",
      "text/plain": [
       "<Figure size 720x360 with 1 Axes>"
      ]
     },
     "metadata": {
      "needs_background": "light"
     },
     "output_type": "display_data"
    },
    {
     "name": "stdout",
     "output_type": "stream",
     "text": [
      "Numerical feature: hoursperweek\n"
     ]
    },
    {
     "data": {
      "image/png": "[encoded data removed]",
      "text/plain": [
       "<Figure size 720x360 with 1 Axes>"
      ]
     },
     "metadata": {
      "needs_background": "light"
     },
     "output_type": "display_data"
    }
   ],
   "source": [
    "col=['age','capitalgain', 'capitalloss','hoursperweek']\n",
    "for i in col:\n",
    "    plt.figure(figsize=(10,5))\n",
    "    print(\"Numerical feature:\" ,i)\n",
    "    sns.histplot(x=Df[i])\n",
    "    plt.xticks(rotation=90)\n",
    "    plt.show()"
   ]
  },
  {
   "cell_type": "markdown",
   "metadata": {},
   "source": [
    "##Observation: The distribution has improved after the outlier treatment. There is still a tail but it is thick, that means there are many values in that range, hence, it is acceptable"
   ]
  },
  {
   "cell_type": "markdown",
   "metadata": {},
   "source": [
    "# Feature Selection"
   ]
  },
  {
   "cell_type": "markdown",
   "metadata": {},
   "source": [
    "##Statistical measurement\n",
    "Continuous Vs Continuous ---- Correlation matrix\n",
    "Categorical Vs Continuous---- ANOVA test\n",
    "Categorical Vs Categorical--- Chi-Square test"
   ]
  },
  {
   "cell_type": "markdown",
   "metadata": {},
   "source": [
    "##In case of this Data we have target variable as categorical and predictors as continuos we have to use ANOVA test\n",
    "##In case of this Data we have target variable as categorical and predictors as categorical  we have to use Chi-Squatred test"
   ]
  },
  {
   "cell_type": "markdown",
   "metadata": {},
   "source": [
    "## Feature selection using ANOVA test"
   ]
  },
  {
   "cell_type": "code",
   "execution_count": 100,
   "metadata": {},
   "outputs": [],
   "source": [
    "#Defining a function to find the statistical relationship with all the categorical variables\n",
    "def FunctionAnova(inpData, TargetVariable, ContinuousPredictorList):\n",
    "    from scipy.stats import f_oneway\n",
    "\n",
    "    # Creating an empty list of final selected predictors\n",
    "    SelectedPredictors=[]\n",
    "    \n",
    "    print('##### ANOVA Results ##### \\n')\n",
    "    for predictor in ContinuousPredictorList:\n",
    "        CategoryGroupLists=inpData.groupby(TargetVariable)[predictor].apply(list)\n",
    "        AnovaResults = f_oneway(*CategoryGroupLists)\n",
    "        \n",
    "        # If the ANOVA P-Value is <0.05, that means we reject H0\n",
    "        if (AnovaResults[1] < 0.05):\n",
    "            print(predictor, 'is correlated with', TargetVariable, '| P-Value:', AnovaResults[1])\n",
    "            SelectedPredictors.append(predictor)\n",
    "        else:\n",
    "            print(predictor, 'is NOT correlated with', TargetVariable, '| P-Value:', AnovaResults[1])\n",
    "    \n",
    "    return(SelectedPredictors)"
   ]
  },
  {
   "cell_type": "code",
   "execution_count": 101,
   "metadata": {},
   "outputs": [
    {
     "name": "stdout",
     "output_type": "stream",
     "text": [
      "##### ANOVA Results ##### \n",
      "\n",
      "age is correlated with SalStat | P-Value: 0.0\n",
      "capitalgain is correlated with SalStat | P-Value: 0.0\n",
      "capitalloss is correlated with SalStat | P-Value: 1.4049382834616348e-121\n",
      "hoursperweek is correlated with SalStat | P-Value: 1.1036183401827715e-171\n"
     ]
    },
    {
     "data": {
      "text/plain": [
       "['age', 'capitalgain', 'capitalloss', 'hoursperweek']"
      ]
     },
     "execution_count": 101,
     "metadata": {},
     "output_type": "execute_result"
    }
   ],
   "source": [
    "ContinuousVariables=['age', 'capitalgain', 'capitalloss','hoursperweek' ]\n",
    "FunctionAnova(inpData=Df, TargetVariable='SalStat', ContinuousPredictorList=ContinuousVariables)"
   ]
  },
  {
   "cell_type": "code",
   "execution_count": 102,
   "metadata": {},
   "outputs": [
    {
     "data": {
      "text/plain": [
       "'##statistical Feature Selection (Categorical Vs Categorical) using Chi-Square Test\\nChi-Square test is conducted to check the correlation between two categorical variables\\nAssumption(H0): The two columns are NOT related to each other\\nResult of Chi-Sq Test: The Probability of H0 being True'"
      ]
     },
     "execution_count": 102,
     "metadata": {},
     "output_type": "execute_result"
    }
   ],
   "source": [
    "'''##statistical Feature Selection (Categorical Vs Categorical) using Chi-Square Test\n",
    "Chi-Square test is conducted to check the correlation between two categorical variables\n",
    "Assumption(H0): The two columns are NOT related to each other\n",
    "Result of Chi-Sq Test: The Probability of H0 being True'''"
   ]
  },
  {
   "cell_type": "code",
   "execution_count": 103,
   "metadata": {},
   "outputs": [],
   "source": [
    "# Writing a function to find the correlation of all categorical variables with the Target variable\n",
    "def FunctionChisq(inpData, TargetVariable, CategoricalVariablesList):\n",
    "    from scipy.stats import chi2_contingency\n",
    "    \n",
    "    # Creating an empty list of final selected predictors\n",
    "    SelectedPredictors=[]\n",
    "\n",
    "    for predictor in CategoricalVariablesList:\n",
    "        CrossTabResult=pd.crosstab(index=inpData[TargetVariable], columns=inpData[predictor])\n",
    "        ChiSqResult = chi2_contingency(CrossTabResult)\n",
    "        \n",
    "        # If the ChiSq P-Value is <0.05, that means we reject H0\n",
    "        if (ChiSqResult[1] < 0.05):\n",
    "            print(predictor, 'is correlated with', TargetVariable, '| P-Value:', ChiSqResult[1])\n",
    "            SelectedPredictors.append(predictor)\n",
    "        else:\n",
    "            print(predictor, 'is NOT correlated with', TargetVariable, '| P-Value:', ChiSqResult[1])        \n",
    "            \n",
    "    return(SelectedPredictors)"
   ]
  },
  {
   "cell_type": "code",
   "execution_count": 104,
   "metadata": {},
   "outputs": [
    {
     "name": "stdout",
     "output_type": "stream",
     "text": [
      "JobType is correlated with SalStat | P-Value: 5.50579174582779e-150\n",
      "EdType is correlated with SalStat | P-Value: 0.0\n",
      "maritalstatus is correlated with SalStat | P-Value: 0.0\n",
      "occupation is correlated with SalStat | P-Value: 0.0\n",
      "relationship is correlated with SalStat | P-Value: 0.0\n",
      "race is correlated with SalStat | P-Value: 3.2992595217020476e-67\n",
      "gender is correlated with SalStat | P-Value: 3.238247006853645e-278\n",
      "nativecountry is correlated with SalStat | P-Value: 1.5453967469835236e-45\n"
     ]
    },
    {
     "data": {
      "text/plain": [
       "['JobType',\n",
       " 'EdType',\n",
       " 'maritalstatus',\n",
       " 'occupation',\n",
       " 'relationship',\n",
       " 'race',\n",
       " 'gender',\n",
       " 'nativecountry']"
      ]
     },
     "execution_count": 104,
     "metadata": {},
     "output_type": "execute_result"
    }
   ],
   "source": [
    "CategoricalVariables=['JobType','EdType','maritalstatus','occupation','relationship','race','gender','nativecountry']\n",
    "# Calling the function\n",
    "FunctionChisq(inpData=Df, \n",
    "              TargetVariable='SalStat',\n",
    "              CategoricalVariablesList= CategoricalVariables)"
   ]
  },
  {
   "cell_type": "code",
   "execution_count": 105,
   "metadata": {},
   "outputs": [],
   "source": [
    "# Final Predictors\n",
    "Final_p=['age', 'JobType', 'EdType', 'maritalstatus', 'occupation',\n",
    "       'relationship', 'race', 'gender', 'capitalgain', 'capitalloss',\n",
    "       'hoursperweek']\n",
    "# Selecting final columns\n",
    "DataForML=Df[Final_p]\n",
    "DataForML.head()\n",
    "# Saving this final data for reference during deployment\n",
    "import  pickle\n",
    "with open('DataForML.pkl', 'wb') as fileWriteStream:\n",
    "    pickle.dump(DataForML, fileWriteStream)\n",
    "    # Don't forget to close the filestream!\n",
    "    fileWriteStream.close()"
   ]
  },
  {
   "cell_type": "code",
   "execution_count": 106,
   "metadata": {},
   "outputs": [
    {
     "data": {
      "text/plain": [
       "<bound method NDFrame.head of         age       JobType         EdType        maritalstatus  \\\n",
       "0      45.0       Private        HS-grad             Divorced   \n",
       "1      24.0   Federal-gov        HS-grad        Never-married   \n",
       "2      44.0       Private   Some-college   Married-civ-spouse   \n",
       "3      27.0       Private            9th        Never-married   \n",
       "4      20.0       Private   Some-college        Never-married   \n",
       "...     ...           ...            ...                  ...   \n",
       "31972  33.0       Private        Masters   Married-civ-spouse   \n",
       "31973  34.0     Local-gov        HS-grad        Never-married   \n",
       "31974  34.0     Local-gov   Some-college        Never-married   \n",
       "31975  23.0       Private   Some-college   Married-civ-spouse   \n",
       "31976  42.0     Local-gov   Some-college   Married-civ-spouse   \n",
       "\n",
       "             occupation     relationship    race   gender  capitalgain  \\\n",
       "0          Adm-clerical    Not-in-family   White   Female            0   \n",
       "1          Armed-Forces        Own-child   White     Male            0   \n",
       "2        Prof-specialty          Husband   White     Male            0   \n",
       "3          Craft-repair   Other-relative   White     Male            0   \n",
       "4                 Sales    Not-in-family   White     Male            0   \n",
       "...                 ...              ...     ...      ...          ...   \n",
       "31972    Prof-specialty          Husband   White     Male            0   \n",
       "31973   Farming-fishing    Not-in-family   Black     Male          594   \n",
       "31974   Protective-serv    Not-in-family   White   Female            0   \n",
       "31975      Adm-clerical          Husband   White     Male            0   \n",
       "31976      Adm-clerical             Wife   White   Female            0   \n",
       "\n",
       "       capitalloss  hoursperweek  \n",
       "0                0          40.0  \n",
       "1                0          40.0  \n",
       "2                0          40.0  \n",
       "3                0          40.0  \n",
       "4                0          35.0  \n",
       "...            ...           ...  \n",
       "31972            0          50.0  \n",
       "31973            0          40.0  \n",
       "31974            0          40.0  \n",
       "31975            0          40.0  \n",
       "31976            0          40.0  \n",
       "\n",
       "[26904 rows x 11 columns]>"
      ]
     },
     "execution_count": 106,
     "metadata": {},
     "output_type": "execute_result"
    }
   ],
   "source": [
    "data=Df[Final_p]\n",
    "data.head"
   ]
  },
  {
   "cell_type": "code",
   "execution_count": 107,
   "metadata": {},
   "outputs": [
    {
     "data": {
      "text/plain": [
       "'##Data Pre-processing for Machine Learning\\nList of steps performed on predictor variables before data can be used for machine learning\\n1.Converting each Ordinal Categorical columns to numeric\\n2.Converting Binary nominal Categorical columns to numeric using 1/0 mapping\\n3.Converting all other nominal categorical columns to numeric using pd.get_dummies()\\n4.Data Transformation (Optional): Standardization/Normalization/log/sqrt.\\n    Important if you are using distance based algorithms like KNN, or Neural Networks'"
      ]
     },
     "execution_count": 107,
     "metadata": {},
     "output_type": "execute_result"
    }
   ],
   "source": [
    "'''##Data Pre-processing for Machine Learning\n",
    "List of steps performed on predictor variables before data can be used for machine learning\n",
    "1.Converting each Ordinal Categorical columns to numeric\n",
    "2.Converting Binary nominal Categorical columns to numeric using 1/0 mapping\n",
    "3.Converting all other nominal categorical columns to numeric using pd.get_dummies()\n",
    "4.Data Transformation (Optional): Standardization/Normalization/log/sqrt.\n",
    "    Important if you are using distance based algorithms like KNN, or Neural Networks'''"
   ]
  },
  {
   "cell_type": "code",
   "execution_count": 108,
   "metadata": {},
   "outputs": [],
   "source": [
    "# mapping male=1 and female=0\n",
    "data['gender'].replace({' Female':0, ' Male':1}, inplace=True)"
   ]
  },
  {
   "cell_type": "code",
   "execution_count": 109,
   "metadata": {},
   "outputs": [
    {
     "data": {
      "text/html": [
       "<div>\n",
       "<style scoped>\n",
       "    .dataframe tbody tr th:only-of-type {\n",
       "        vertical-align: middle;\n",
       "    }\n",
       "\n",
       "    .dataframe tbody tr th {\n",
       "        vertical-align: top;\n",
       "    }\n",
       "\n",
       "    .dataframe thead th {\n",
       "        text-align: right;\n",
       "    }\n",
       "</style>\n",
       "<table border=\"1\" class=\"dataframe\">\n",
       "  <thead>\n",
       "    <tr style=\"text-align: right;\">\n",
       "      <th></th>\n",
       "      <th>age</th>\n",
       "      <th>gender</th>\n",
       "      <th>capitalgain</th>\n",
       "      <th>capitalloss</th>\n",
       "      <th>hoursperweek</th>\n",
       "      <th>JobType_ Federal-gov</th>\n",
       "      <th>JobType_ Local-gov</th>\n",
       "      <th>JobType_ Private</th>\n",
       "      <th>JobType_ Self-emp-inc</th>\n",
       "      <th>JobType_ Self-emp-not-inc</th>\n",
       "      <th>...</th>\n",
       "      <th>relationship_ Not-in-family</th>\n",
       "      <th>relationship_ Other-relative</th>\n",
       "      <th>relationship_ Own-child</th>\n",
       "      <th>relationship_ Unmarried</th>\n",
       "      <th>relationship_ Wife</th>\n",
       "      <th>race_ Amer-Indian-Eskimo</th>\n",
       "      <th>race_ Asian-Pac-Islander</th>\n",
       "      <th>race_ Black</th>\n",
       "      <th>race_ Other</th>\n",
       "      <th>race_ White</th>\n",
       "    </tr>\n",
       "  </thead>\n",
       "  <tbody>\n",
       "    <tr>\n",
       "      <th>0</th>\n",
       "      <td>45.0</td>\n",
       "      <td>0</td>\n",
       "      <td>0</td>\n",
       "      <td>0</td>\n",
       "      <td>40.0</td>\n",
       "      <td>0</td>\n",
       "      <td>0</td>\n",
       "      <td>1</td>\n",
       "      <td>0</td>\n",
       "      <td>0</td>\n",
       "      <td>...</td>\n",
       "      <td>1</td>\n",
       "      <td>0</td>\n",
       "      <td>0</td>\n",
       "      <td>0</td>\n",
       "      <td>0</td>\n",
       "      <td>0</td>\n",
       "      <td>0</td>\n",
       "      <td>0</td>\n",
       "      <td>0</td>\n",
       "      <td>1</td>\n",
       "    </tr>\n",
       "    <tr>\n",
       "      <th>1</th>\n",
       "      <td>24.0</td>\n",
       "      <td>1</td>\n",
       "      <td>0</td>\n",
       "      <td>0</td>\n",
       "      <td>40.0</td>\n",
       "      <td>1</td>\n",
       "      <td>0</td>\n",
       "      <td>0</td>\n",
       "      <td>0</td>\n",
       "      <td>0</td>\n",
       "      <td>...</td>\n",
       "      <td>0</td>\n",
       "      <td>0</td>\n",
       "      <td>1</td>\n",
       "      <td>0</td>\n",
       "      <td>0</td>\n",
       "      <td>0</td>\n",
       "      <td>0</td>\n",
       "      <td>0</td>\n",
       "      <td>0</td>\n",
       "      <td>1</td>\n",
       "    </tr>\n",
       "    <tr>\n",
       "      <th>2</th>\n",
       "      <td>44.0</td>\n",
       "      <td>1</td>\n",
       "      <td>0</td>\n",
       "      <td>0</td>\n",
       "      <td>40.0</td>\n",
       "      <td>0</td>\n",
       "      <td>0</td>\n",
       "      <td>1</td>\n",
       "      <td>0</td>\n",
       "      <td>0</td>\n",
       "      <td>...</td>\n",
       "      <td>0</td>\n",
       "      <td>0</td>\n",
       "      <td>0</td>\n",
       "      <td>0</td>\n",
       "      <td>0</td>\n",
       "      <td>0</td>\n",
       "      <td>0</td>\n",
       "      <td>0</td>\n",
       "      <td>0</td>\n",
       "      <td>1</td>\n",
       "    </tr>\n",
       "    <tr>\n",
       "      <th>3</th>\n",
       "      <td>27.0</td>\n",
       "      <td>1</td>\n",
       "      <td>0</td>\n",
       "      <td>0</td>\n",
       "      <td>40.0</td>\n",
       "      <td>0</td>\n",
       "      <td>0</td>\n",
       "      <td>1</td>\n",
       "      <td>0</td>\n",
       "      <td>0</td>\n",
       "      <td>...</td>\n",
       "      <td>0</td>\n",
       "      <td>1</td>\n",
       "      <td>0</td>\n",
       "      <td>0</td>\n",
       "      <td>0</td>\n",
       "      <td>0</td>\n",
       "      <td>0</td>\n",
       "      <td>0</td>\n",
       "      <td>0</td>\n",
       "      <td>1</td>\n",
       "    </tr>\n",
       "    <tr>\n",
       "      <th>4</th>\n",
       "      <td>20.0</td>\n",
       "      <td>1</td>\n",
       "      <td>0</td>\n",
       "      <td>0</td>\n",
       "      <td>35.0</td>\n",
       "      <td>0</td>\n",
       "      <td>0</td>\n",
       "      <td>1</td>\n",
       "      <td>0</td>\n",
       "      <td>0</td>\n",
       "      <td>...</td>\n",
       "      <td>1</td>\n",
       "      <td>0</td>\n",
       "      <td>0</td>\n",
       "      <td>0</td>\n",
       "      <td>0</td>\n",
       "      <td>0</td>\n",
       "      <td>0</td>\n",
       "      <td>0</td>\n",
       "      <td>0</td>\n",
       "      <td>1</td>\n",
       "    </tr>\n",
       "  </tbody>\n",
       "</table>\n",
       "<p>5 rows × 60 columns</p>\n",
       "</div>"
      ],
      "text/plain": [
       "    age  gender  capitalgain  capitalloss  hoursperweek  JobType_ Federal-gov  \\\n",
       "0  45.0       0            0            0          40.0                     0   \n",
       "1  24.0       1            0            0          40.0                     1   \n",
       "2  44.0       1            0            0          40.0                     0   \n",
       "3  27.0       1            0            0          40.0                     0   \n",
       "4  20.0       1            0            0          35.0                     0   \n",
       "\n",
       "   JobType_ Local-gov  JobType_ Private  JobType_ Self-emp-inc  \\\n",
       "0                   0                 1                      0   \n",
       "1                   0                 0                      0   \n",
       "2                   0                 1                      0   \n",
       "3                   0                 1                      0   \n",
       "4                   0                 1                      0   \n",
       "\n",
       "   JobType_ Self-emp-not-inc  ...  relationship_ Not-in-family  \\\n",
       "0                          0  ...                            1   \n",
       "1                          0  ...                            0   \n",
       "2                          0  ...                            0   \n",
       "3                          0  ...                            0   \n",
       "4                          0  ...                            1   \n",
       "\n",
       "   relationship_ Other-relative  relationship_ Own-child  \\\n",
       "0                             0                        0   \n",
       "1                             0                        1   \n",
       "2                             0                        0   \n",
       "3                             1                        0   \n",
       "4                             0                        0   \n",
       "\n",
       "   relationship_ Unmarried  relationship_ Wife  race_ Amer-Indian-Eskimo  \\\n",
       "0                        0                   0                         0   \n",
       "1                        0                   0                         0   \n",
       "2                        0                   0                         0   \n",
       "3                        0                   0                         0   \n",
       "4                        0                   0                         0   \n",
       "\n",
       "   race_ Asian-Pac-Islander  race_ Black  race_ Other  race_ White  \n",
       "0                         0            0            0            1  \n",
       "1                         0            0            0            1  \n",
       "2                         0            0            0            1  \n",
       "3                         0            0            0            1  \n",
       "4                         0            0            0            1  \n",
       "\n",
       "[5 rows x 60 columns]"
      ]
     },
     "execution_count": 109,
     "metadata": {},
     "output_type": "execute_result"
    }
   ],
   "source": [
    "#Get one hot encoding using pd.get_dummies() for other nominal variables\n",
    "x=pd.get_dummies(data)\n",
    "x.head()"
   ]
  },
  {
   "cell_type": "code",
   "execution_count": 110,
   "metadata": {},
   "outputs": [
    {
     "data": {
      "text/plain": [
       "(array([0, 1]), array([ 6880, 20024], dtype=int64))"
      ]
     },
     "execution_count": 110,
     "metadata": {},
     "output_type": "execute_result"
    }
   ],
   "source": [
    "# Transforming non numerical labels into numerical labels of target variables\n",
    "from sklearn import preprocessing \n",
    "encoder = preprocessing.LabelEncoder()\n",
    "y=Df['SalStat']\n",
    "# encoding  labels \n",
    "encoder.fit(y)\n",
    "y = encoder.transform(y)\n",
    "np.unique(y, return_counts=True)"
   ]
  },
  {
   "cell_type": "code",
   "execution_count": 111,
   "metadata": {},
   "outputs": [
    {
     "name": "stdout",
     "output_type": "stream",
     "text": [
      "Dimension of Train set (20178, 60)\n",
      "Dimension of Test set (6726, 60) \n",
      "\n"
     ]
    }
   ],
   "source": [
    "# dividing X, y into train and test data\n",
    "from sklearn.model_selection import train_test_split\n",
    "X_train, X_test, Y_train, Y_test = train_test_split(x, y, random_state = 0)\n",
    "print(\"Dimension of Train set\",X_train.shape)\n",
    "print(\"Dimension of Test set\",X_test.shape,\"\\n\")"
   ]
  },
  {
   "cell_type": "markdown",
   "metadata": {},
   "source": [
    "# Logistic Regression"
   ]
  },
  {
   "cell_type": "code",
   "execution_count": 112,
   "metadata": {},
   "outputs": [
    {
     "name": "stdout",
     "output_type": "stream",
     "text": [
      "Accuracy of the model on Traning Sample Data: 0.8330855387055208\n",
      "              precision    recall  f1-score   support\n",
      "\n",
      "           0       0.71      0.58      0.64      1712\n",
      "           1       0.86      0.92      0.89      5014\n",
      "\n",
      "    accuracy                           0.83      6726\n",
      "   macro avg       0.79      0.75      0.76      6726\n",
      "weighted avg       0.83      0.83      0.83      6726\n",
      "\n",
      "[[ 991  721]\n",
      " [ 407 4607]]\n",
      "Accuracy of the model on Testing Sample Data: 0.83\n",
      "\n",
      "Accuracy values for 10-fold Cross Validation:\n",
      " [0.82014121 0.8361204  0.83091787 0.81939799 0.84572491 0.83828996\n",
      " 0.82788104 0.83197026 0.83494424 0.82899628]\n",
      "\n",
      "Final Average Accuracy of the model: 0.83\n"
     ]
    }
   ],
   "source": [
    "# Logistic Regression\n",
    "from sklearn.linear_model import LogisticRegression\n",
    "clf = LogisticRegression()\n",
    "\n",
    "# Creating the model on Training Data\n",
    "LR=clf.fit(X_train,Y_train)\n",
    "prediction=LR.predict(X_test)\n",
    "\n",
    "#measuring accuracy of train test\n",
    "print('Accuracy of the model on Traning Sample Data:',LR.score(X_train,Y_train))\n",
    "\n",
    "# Measuring accuracy on Testing Data\n",
    "from sklearn import metrics\n",
    "print(metrics.classification_report(Y_test, prediction))\n",
    "print(metrics.confusion_matrix(Y_test, prediction))\n",
    "\n",
    "# Printing the Overall Accuracy of the model\n",
    "F1_Score=metrics.f1_score(Y_test, prediction, average='weighted')\n",
    "print('Accuracy of the model on Testing Sample Data:', round(F1_Score,2))\n",
    "\n",
    "# Importing cross validation function from sklearn\n",
    "from sklearn.model_selection import cross_val_score\n",
    "\n",
    "# Running 10-Fold Cross validation on a given algorithm\n",
    "# Passing full data X and y because the K-fold will split the data and automatically choose train/test\n",
    "Accuracy_Values=cross_val_score(LR, x , y, cv=10)\n",
    "print('\\nAccuracy values for 10-fold Cross Validation:\\n',Accuracy_Values)\n",
    "print('\\nFinal Average Accuracy of the model:', round(Accuracy_Values.mean(),2))"
   ]
  },
  {
   "cell_type": "markdown",
   "metadata": {},
   "source": [
    "# K-Nearest Neighbor(KNN)"
   ]
  },
  {
   "cell_type": "code",
   "execution_count": 113,
   "metadata": {},
   "outputs": [
    {
     "name": "stdout",
     "output_type": "stream",
     "text": [
      "neighbors k= 1 0.7805530776092774\n",
      "neighbors k= 2 0.7567647933392804\n",
      "neighbors k= 3 0.8169788878977103\n",
      "neighbors k= 4 0.8055307760927743\n",
      "neighbors k= 5 0.8256021409455843\n",
      "neighbors k= 6 0.8175735950044603\n",
      "neighbors k= 7 0.8288730300327088\n",
      "neighbors k= 8 0.820844484091585\n",
      "neighbors k= 9 0.8294677371394589\n",
      "neighbors k= 10 0.8248587570621468\n",
      "neighbors k= 11 0.8302111210228962\n",
      "neighbors k= 12 0.8244127267320844\n",
      "neighbors k= 13 0.8331846565566459\n",
      "neighbors k= 14 0.8278322925958965\n",
      "KNeighborsClassifier(n_neighbors=13)\n",
      "Accuracy of the model on Traning Sample Data: 0.8575676479333928\n",
      "              precision    recall  f1-score   support\n",
      "\n",
      "           0       0.70      0.60      0.64      1712\n",
      "           1       0.87      0.91      0.89      5014\n",
      "\n",
      "    accuracy                           0.83      6726\n",
      "   macro avg       0.79      0.75      0.77      6726\n",
      "weighted avg       0.83      0.83      0.83      6726\n",
      "\n",
      "[[1019  693]\n",
      " [ 429 4585]]\n",
      "Accuracy of the model on Testing Sample Data: 0.83\n",
      "\n",
      "Accuracy values for 10-fold Cross Validation:\n",
      " [0.82534374 0.83426236 0.82868822 0.83128948 0.82973978 0.84535316\n",
      " 0.83791822 0.83457249 0.84275093 0.83122677]\n",
      "\n",
      "Final Average Accuracy of the model: 0.83\n"
     ]
    }
   ],
   "source": [
    "# K-Nearest Neighbor(KNN)\n",
    "from sklearn.neighbors import KNeighborsClassifier\n",
    "for i in range(1,15):\n",
    "    clf = KNeighborsClassifier(n_neighbors=i)  #K=1 , clf is my model\n",
    "    clf.fit(X_train, Y_train) #traininig algorithm  \n",
    "    print('neighbors k=',i,clf.score(X_test, Y_test)) #test\n",
    "    #print ('\\n')\n",
    "\n",
    "clf = KNeighborsClassifier(n_neighbors=13)\n",
    "\n",
    "# Printing all the parameters of KNN\n",
    "print(clf)\n",
    "\n",
    "# Creating the model on Training Data\n",
    "KNN=clf.fit(X_train,Y_train)\n",
    "prediction=KNN.predict(X_test)\n",
    "\n",
    "#measuring accuracy of train test\n",
    "print('Accuracy of the model on Traning Sample Data:',KNN.score(X_train,Y_train))\n",
    "\n",
    "# Measuring accuracy on Testing Data\n",
    "from sklearn import metrics\n",
    "print(metrics.classification_report(Y_test, prediction))\n",
    "print(metrics.confusion_matrix(Y_test, prediction))\n",
    "\n",
    "# Printing the Overall Accuracy of the model\n",
    "F1_Score=metrics.f1_score(Y_test, prediction, average='weighted')\n",
    "print('Accuracy of the model on Testing Sample Data:', round(F1_Score,2))\n",
    "\n",
    "# Importing cross validation function from sklearn\n",
    "from sklearn.model_selection import cross_val_score\n",
    "\n",
    "# Running 10-Fold Cross validation on a given algorithm\n",
    "# Passing full data x and y because the K-fold will split the data and automatically choose train/test\n",
    "Accuracy_Values=cross_val_score(KNN, x , y, cv=10)\n",
    "print('\\nAccuracy values for 10-fold Cross Validation:\\n',Accuracy_Values)\n",
    "print('\\nFinal Average Accuracy of the model:', round(Accuracy_Values.mean(),2))"
   ]
  },
  {
   "cell_type": "markdown",
   "metadata": {},
   "source": [
    "# Support Vector Machines(SVM)"
   ]
  },
  {
   "cell_type": "code",
   "execution_count": 114,
   "metadata": {},
   "outputs": [
    {
     "name": "stdout",
     "output_type": "stream",
     "text": [
      "SVC()\n",
      "Accuracy of the model on Traning Sample Data: 0.7922985429675885\n",
      "              precision    recall  f1-score   support\n",
      "\n",
      "           0       0.74      0.29      0.42      1712\n",
      "           1       0.80      0.96      0.87      5014\n",
      "\n",
      "    accuracy                           0.79      6726\n",
      "   macro avg       0.77      0.63      0.65      6726\n",
      "weighted avg       0.78      0.79      0.76      6726\n",
      "\n",
      "[[ 504 1208]\n",
      " [ 178 4836]]\n",
      "Accuracy of the model on Testing Sample Data: 0.76\n"
     ]
    }
   ],
   "source": [
    "# Support Vector Machines(SVM)\n",
    "from sklearn import svm\n",
    "clf = svm.SVC(kernel='rbf')\n",
    "\n",
    "# Printing all the parameters of KNN\n",
    "print(clf)\n",
    "\n",
    "# Creating the model on Training Data\n",
    "SVM=clf.fit(X_train,Y_train)\n",
    "prediction=SVM.predict(X_test)\n",
    "\n",
    "#measuring accuracy of train test\n",
    "print('Accuracy of the model on Traning Sample Data:',SVM.score(X_train,Y_train))\n",
    "\n",
    "# Measuring accuracy on Testing Data\n",
    "from sklearn import metrics\n",
    "print(metrics.classification_report(Y_test, prediction))\n",
    "print(metrics.confusion_matrix(Y_test, prediction))\n",
    "\n",
    "# Printing the Overall Accuracy of the model\n",
    "F1_Score=metrics.f1_score(Y_test, prediction, average='weighted')\n",
    "print('Accuracy of the model on Testing Sample Data:', round(F1_Score,2))\n",
    "\n"
   ]
  },
  {
   "cell_type": "markdown",
   "metadata": {},
   "source": [
    "# Naive Bays"
   ]
  },
  {
   "cell_type": "code",
   "execution_count": 115,
   "metadata": {},
   "outputs": [
    {
     "name": "stdout",
     "output_type": "stream",
     "text": [
      "GaussianNB()\n",
      "              precision    recall  f1-score   support\n",
      "\n",
      "           0       0.55      0.86      0.67      1712\n",
      "           1       0.94      0.76      0.84      5014\n",
      "\n",
      "    accuracy                           0.78      6726\n",
      "   macro avg       0.74      0.81      0.76      6726\n",
      "weighted avg       0.84      0.78      0.80      6726\n",
      "\n",
      "[[1468  244]\n",
      " [1204 3810]]\n",
      "Accuracy of the model on Testing Sample Data: 0.8\n",
      "\n",
      "Accuracy values for 10-fold Cross Validation:\n",
      " [0.78149387 0.79004088 0.79041249 0.77220364 0.78475836 0.78215613\n",
      " 0.7929368  0.7866171  0.79591078 0.78438662]\n",
      "\n",
      "Final Average Accuracy of the model: 0.79\n"
     ]
    }
   ],
   "source": [
    "# Naive Bays\n",
    "from sklearn.naive_bayes import GaussianNB\n",
    "\n",
    "# GaussianNB is used in Binomial Classification\n",
    "clf = GaussianNB()\n",
    "\n",
    "# Printing all the parameters of Naive Bayes\n",
    "print(clf)\n",
    "\n",
    "NB=clf.fit(X_train,Y_train)\n",
    "prediction=NB.predict(X_test)\n",
    "\n",
    "# Measuring accuracy on Testing Data\n",
    "from sklearn import metrics\n",
    "print(metrics.classification_report(Y_test, prediction))\n",
    "print(metrics.confusion_matrix(Y_test, prediction))\n",
    "\n",
    "# Printing the Overall Accuracy of the model\n",
    "F1_Score=metrics.f1_score(Y_test, prediction, average='weighted')\n",
    "print('Accuracy of the model on Testing Sample Data:', round(F1_Score,2))\n",
    "\n",
    "# Importing cross validation function from sklearn\n",
    "from sklearn.model_selection import cross_val_score\n",
    "\n",
    "# Running 10-Fold Cross validation on a given algorithm\n",
    "# Passing full data x and y because the K-fold will split the data and automatically choose train/test\n",
    "Accuracy_Values=cross_val_score(NB, x , y, cv=10)\n",
    "print('\\nAccuracy values for 10-fold Cross Validation:\\n',Accuracy_Values)\n",
    "print('\\nFinal Average Accuracy of the model:', round(Accuracy_Values.mean(),2))"
   ]
  },
  {
   "cell_type": "markdown",
   "metadata": {},
   "source": [
    "# Decision Tree Classifiers"
   ]
  },
  {
   "cell_type": "code",
   "execution_count": 116,
   "metadata": {},
   "outputs": [
    {
     "name": "stdout",
     "output_type": "stream",
     "text": [
      "DecisionTreeClassifier()\n",
      "              precision    recall  f1-score   support\n",
      "\n",
      "           0       0.57      0.63      0.60      1712\n",
      "           1       0.87      0.84      0.85      5014\n",
      "\n",
      "    accuracy                           0.78      6726\n",
      "   macro avg       0.72      0.73      0.73      6726\n",
      "weighted avg       0.79      0.78      0.79      6726\n",
      "\n",
      "[[1080  632]\n",
      " [ 820 4194]]\n",
      "Accuracy of the model on Testing Sample Data: 0.79\n",
      "\n",
      "Accuracy values for 10-fold Cross Validation:\n",
      " [0.77108881 0.78409513 0.78446674 0.76811594 0.77583643 0.8\n",
      " 0.79591078 0.78178439 0.79070632 0.76579926]\n",
      "\n",
      "Final Average Accuracy of the model: 0.78\n"
     ]
    }
   ],
   "source": [
    "##Decision Tree Classifiers\n",
    "from sklearn import tree\n",
    "#choose from different tunable hyper parameters\n",
    "clf = tree.DecisionTreeClassifier(criterion='gini')\n",
    "\n",
    "# Printing all the parameters of Decision Trees\n",
    "print(clf)\n",
    "\n",
    "# Creating the model on Training Data\n",
    "DTree=clf.fit(X_train,Y_train)\n",
    "prediction=DTree.predict(X_test)\n",
    "\n",
    "# Measuring accuracy on Testing Data\n",
    "from sklearn import metrics\n",
    "print(metrics.classification_report(Y_test, prediction))\n",
    "print(metrics.confusion_matrix(Y_test, prediction))\n",
    "\n",
    "# Printing the Overall Accuracy of the model\n",
    "F1_Score=metrics.f1_score(Y_test, prediction, average='weighted')\n",
    "print('Accuracy of the model on Testing Sample Data:', round(F1_Score,2))\n",
    "\n",
    "# Importing cross validation function from sklearn\n",
    "from sklearn.model_selection import cross_val_score\n",
    "\n",
    "# Running 10-Fold Cross validation on a given algorithm\n",
    "# Passing full data x and y because the K-fold will split the data and automatically choose train/test\n",
    "Accuracy_Values=cross_val_score(DTree, x, y, cv=10)\n",
    "print('\\nAccuracy values for 10-fold Cross Validation:\\n',Accuracy_Values)\n",
    "print('\\nFinal Average Accuracy of the model:', round(Accuracy_Values.mean(),2))"
   ]
  },
  {
   "cell_type": "markdown",
   "metadata": {},
   "source": [
    "# Random Forest"
   ]
  },
  {
   "cell_type": "code",
   "execution_count": 117,
   "metadata": {},
   "outputs": [
    {
     "name": "stdout",
     "output_type": "stream",
     "text": [
      "RandomForestClassifier()\n",
      "              precision    recall  f1-score   support\n",
      "\n",
      "           0       0.65      0.61      0.63      1712\n",
      "           1       0.87      0.89      0.88      5014\n",
      "\n",
      "    accuracy                           0.82      6726\n",
      "   macro avg       0.76      0.75      0.76      6726\n",
      "weighted avg       0.81      0.82      0.82      6726\n",
      "\n",
      "[[1041  671]\n",
      " [ 549 4465]]\n",
      "Accuracy of the model on Testing Sample Data: 0.82\n",
      "\n",
      "Accuracy values for 10-fold Cross Validation:\n",
      " [0.8034188  0.81716834 0.81010777 0.80862133 0.80966543 0.81821561\n",
      " 0.82267658 0.82379182 0.83197026 0.81152416]\n",
      "\n",
      "Final Average Accuracy of the model: 0.82\n"
     ]
    }
   ],
   "source": [
    "# Random Forest (Bagging of multiple Decision Trees)\n",
    "from sklearn.ensemble import RandomForestClassifier\n",
    "# Choose different hyperparameter values of max_depth, n_estimators and criterion to tune the model\n",
    "clf = RandomForestClassifier(n_estimators=100,criterion='gini')\n",
    "\n",
    "# Printing all the parameters of Random Forest\n",
    "print(clf)\n",
    "\n",
    "# Creating the model on Training Data\n",
    "RF=clf.fit(X_train,Y_train)\n",
    "prediction=RF.predict(X_test)\n",
    "\n",
    "# Measuring accuracy on Testing Data\n",
    "from sklearn import metrics\n",
    "print(metrics.classification_report(Y_test, prediction))\n",
    "print(metrics.confusion_matrix(Y_test, prediction))\n",
    "\n",
    "# Printing the Overall Accuracy of the model\n",
    "F1_Score=metrics.f1_score(Y_test, prediction, average='weighted')\n",
    "print('Accuracy of the model on Testing Sample Data:', round(F1_Score,2))\n",
    "\n",
    "# Importing cross validation function from sklearn\n",
    "from sklearn.model_selection import cross_val_score\n",
    "\n",
    "# Running 10-Fold Cross validation on a given algorithm\n",
    "# Passing full data x and y because the K-fold will split the data and automatically choose train/test\n",
    "Accuracy_Values=cross_val_score(RF, x , y, cv=10)\n",
    "print('\\nAccuracy values for 10-fold Cross Validation:\\n',Accuracy_Values)\n",
    "print('\\nFinal Average Accuracy of the model:', round(Accuracy_Values.mean(),2))\n"
   ]
  },
  {
   "cell_type": "markdown",
   "metadata": {},
   "source": [
    "# Deployment of the Model"
   ]
  },
  {
   "cell_type": "markdown",
   "metadata": {},
   "source": [
    "Based on the above trials you select that algorithm which produces the best average accuracy. In this case, \n",
    "multiple algorithms have produced similar kind of average accuracy. Hence, we can choose any one of them.\n",
    "\n",
    "I am choosing Logistic Regression as the final model since it is very fast for this data!\n",
    "\n",
    "In order to deploy the model we follow below steps\n",
    "\n",
    "1. Train the model using 100% data available\n",
    "2. Save the model as a serialized file which can be stored anywhere\n",
    "3. Create a python function which gets integrated with front-end, \n",
    "   to take all the inputs and returns the prediction"
   ]
  },
  {
   "cell_type": "markdown",
   "metadata": {},
   "source": [
    "Step 1. Retraining the model using 100% data"
   ]
  },
  {
   "cell_type": "code",
   "execution_count": 118,
   "metadata": {},
   "outputs": [
    {
     "name": "stdout",
     "output_type": "stream",
     "text": [
      "(26904, 60)\n",
      "(26904,)\n"
     ]
    }
   ],
   "source": [
    "print(x.shape)\n",
    "print(y.shape)"
   ]
  },
  {
   "cell_type": "code",
   "execution_count": 119,
   "metadata": {},
   "outputs": [],
   "source": [
    "# Logistic Regression\n",
    "from sklearn.linear_model import LogisticRegression\n",
    "\n",
    "clf = LogisticRegression()\n",
    "\n",
    "# Training the model on 100% Data available\n",
    "FinalLogisticModel=clf.fit(x,y)"
   ]
  },
  {
   "cell_type": "code",
   "execution_count": 120,
   "metadata": {},
   "outputs": [
    {
     "name": "stdout",
     "output_type": "stream",
     "text": [
      "\n",
      "Accuracy values for 10-fold Cross Validation:\n",
      " [0.81201277 0.8309343  0.82379839 0.81418886 0.83923021 0.8336765\n",
      " 0.81779837 0.82573682 0.83038696 0.82242742]\n",
      "\n",
      "Final Average Accuracy of the model: 0.83\n"
     ]
    }
   ],
   "source": [
    "#Importing cross validation function from sklearn\n",
    "from sklearn.model_selection import cross_val_score\n",
    "\n",
    "# Running 10-Fold Cross validation on a given algorithm\n",
    "# Passing full data X and y because the K-fold will split the data and automatically choose train/test\n",
    "Accuracy_Values=cross_val_score(FinalLogisticModel, x , y, cv=10, scoring='f1_weighted')\n",
    "print('\\nAccuracy values for 10-fold Cross Validation:\\n',Accuracy_Values)\n",
    "print('\\nFinal Average Accuracy of the model:', round(Accuracy_Values.mean(),2))"
   ]
  },
  {
   "cell_type": "markdown",
   "metadata": {},
   "source": [
    "Step 2. Save the model as a serialized file which can be stored anywhere"
   ]
  },
  {
   "cell_type": "code",
   "execution_count": 121,
   "metadata": {},
   "outputs": [
    {
     "name": "stdout",
     "output_type": "stream",
     "text": [
      "pickle file of Predictive Model is saved at Location: C:\\Users\\compaq\\Documents\\Income_Clasifier\n"
     ]
    }
   ],
   "source": [
    "import pickle\n",
    "import os\n",
    "\n",
    "# Saving the Python objects as serialized files can be done using pickle library\n",
    "# Here let us save the Final model\n",
    "with open('FinalLogisticModel.pkl', 'wb') as fileWriteStream:\n",
    "    pickle.dump(FinalLogisticModel, fileWriteStream)\n",
    "    # Don't forget to close the filestream!\n",
    "    fileWriteStream.close()\n",
    "    \n",
    "print('pickle file of Predictive Model is saved at Location:',os.getcwd())"
   ]
  },
  {
   "cell_type": "markdown",
   "metadata": {},
   "source": [
    "Step 3. Create a python function"
   ]
  },
  {
   "cell_type": "code",
   "execution_count": 122,
   "metadata": {},
   "outputs": [],
   "source": [
    "# This Function can be called from any from any front end tool/website\n",
    "def PredictSalaryBand(InputData):\n",
    "    import pandas as pd\n",
    "    Num_Inputs=InputData.shape[0]\n",
    "    print(Num_Inputs)\n",
    "    \n",
    "    # Making sure the input data has same columns as it was used for training the model\n",
    "    # Also, if standardization/normalization was done, then same must be done for new input\n",
    "    \n",
    "    # Appending the new data with the Training data\n",
    "    DataForML=pd.read_pickle('DataForML.pkl')\n",
    "    InputData=InputData.append(DataForML)\n",
    "    \n",
    "    # mapping male=1 and female=0\n",
    "    InputData['gender'].replace({' Female':0, ' Male':1}, inplace=True)\n",
    "    \n",
    "    # Generating dummy variables for rest of the nominal variables\n",
    "    InputData=pd.get_dummies(InputData)\n",
    "    \n",
    "    # Generating the input values to the model\n",
    "    X=InputData[0:Num_Inputs]\n",
    "    \n",
    "    # Generating the standardized values of X since it was done while model training also\n",
    "    #X=PredictorScalerFit.transform(X)\n",
    "    \n",
    "    # Loading the Function from pickle file\n",
    "    import pickle\n",
    "    with open('FinalLogisticModel.pkl', 'rb') as fileReadStream:\n",
    "        LogisticModel=pickle.load(fileReadStream)\n",
    "        # Don't forget to close the filestream!\n",
    "        fileReadStream.close()\n",
    "            \n",
    "    # Genrating Predictions\n",
    "    Prediction=LogisticModel.predict(X)\n",
    "    if (Prediction==0):\n",
    "        print(\"Customer is non defaulter means he is not eligible for credit card\")\n",
    "    else:\n",
    "        print(\"Customer is defaulter means he is  eligible for credit card\")\n",
    "    \n",
    "    PredictedStatus=pd.DataFrame(Prediction, columns=['Predicted Status'])\n",
    "    return(PredictedStatus)"
   ]
  },
  {
   "cell_type": "code",
   "execution_count": 123,
   "metadata": {},
   "outputs": [
    {
     "name": "stdout",
     "output_type": "stream",
     "text": [
      "   age     JobType    EdType   maritalstatus     occupation relationship  \\\n",
      "0   39   State-gov   HS-grad   Never-married   Tech-support      Husband   \n",
      "\n",
      "     race   gender  capitalgain  capitalloss  hoursperweek  \n",
      "0   Black   Female         1000         1234            15  \n",
      "1\n",
      "Customer is defaulter means he is  eligible for credit card\n"
     ]
    },
    {
     "data": {
      "text/html": [
       "<div>\n",
       "<style scoped>\n",
       "    .dataframe tbody tr th:only-of-type {\n",
       "        vertical-align: middle;\n",
       "    }\n",
       "\n",
       "    .dataframe tbody tr th {\n",
       "        vertical-align: top;\n",
       "    }\n",
       "\n",
       "    .dataframe thead th {\n",
       "        text-align: right;\n",
       "    }\n",
       "</style>\n",
       "<table border=\"1\" class=\"dataframe\">\n",
       "  <thead>\n",
       "    <tr style=\"text-align: right;\">\n",
       "      <th></th>\n",
       "      <th>Predicted Status</th>\n",
       "    </tr>\n",
       "  </thead>\n",
       "  <tbody>\n",
       "    <tr>\n",
       "      <th>0</th>\n",
       "      <td>1</td>\n",
       "    </tr>\n",
       "  </tbody>\n",
       "</table>\n",
       "</div>"
      ],
      "text/plain": [
       "   Predicted Status\n",
       "0                 1"
      ]
     },
     "execution_count": 123,
     "metadata": {},
     "output_type": "execute_result"
    }
   ],
   "source": [
    "# Calling the function for some loan applications\n",
    "NewEmployeeDetails=pd.DataFrame(\n",
    "data=[[39,' State-gov',' HS-grad',' Never-married',' Tech-support',' Husband',' Black',' Female',1000,1234,15]],\n",
    "columns=['age', 'JobType', 'EdType', 'maritalstatus', 'occupation',\n",
    "       'relationship', 'race', 'gender', 'capitalgain', 'capitalloss',\n",
    "       'hoursperweek'])\n",
    "\n",
    "print(NewEmployeeDetails)\n",
    "\n",
    "# Calling the Function for prediction\n",
    "PredictSalaryBand(InputData= NewEmployeeDetails)"
   ]
  },
  {
   "cell_type": "code",
   "execution_count": null,
   "metadata": {},
   "outputs": [],
   "source": []
  },
  {
   "cell_type": "code",
   "execution_count": null,
   "metadata": {},
   "outputs": [],
   "source": []
  }
 ],
 "metadata": {
  "kernelspec": {
   "display_name": "Python 3",
   "language": "python",
   "name": "python3"
  },
  "language_info": {
   "codemirror_mode": {
    "name": "ipython",
    "version": 3
   },
   "file_extension": ".py",
   "mimetype": "text/x-python",
   "name": "python",
   "nbconvert_exporter": "python",
   "pygments_lexer": "ipython3",
   "version": "3.8.5"
  }
 },
 "nbformat": 4,
 "nbformat_minor": 4
}
